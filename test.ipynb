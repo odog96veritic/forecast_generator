{
 "metadata": {
  "language_info": {
   "codemirror_mode": {
    "name": "ipython",
    "version": 3
   },
   "file_extension": ".py",
   "mimetype": "text/x-python",
   "name": "python",
   "nbconvert_exporter": "python",
   "pygments_lexer": "ipython3",
   "version": "3.8.2-final"
  },
  "orig_nbformat": 2,
  "kernelspec": {
   "name": "python3",
   "display_name": "Python 3.8.2 64-bit",
   "metadata": {
    "interpreter": {
     "hash": "a61fc264cbb8ce87a9adf5bfb7751dff026c03132aceb8abaf97df9013f35094"
    }
   }
  }
 },
 "nbformat": 4,
 "nbformat_minor": 2,
 "cells": [
  {
   "cell_type": "code",
   "execution_count": 3,
   "metadata": {},
   "outputs": [],
   "source": [
    "import pandas as pd\n",
    "import numpy as np\n",
    "import datetime"
   ]
  },
  {
   "cell_type": "code",
   "execution_count": 4,
   "metadata": {},
   "outputs": [],
   "source": [
    "df = pd.read_csv('ord_vol.csv')\n",
    "df['beg_month'] = pd.to_datetime(df['beg_month'])"
   ]
  },
  {
   "cell_type": "code",
   "execution_count": 5,
   "metadata": {},
   "outputs": [
    {
     "output_type": "execute_result",
     "data": {
      "text/plain": [
       "True"
      ]
     },
     "metadata": {},
     "execution_count": 5
    }
   ],
   "source": [
    "df.dtypes[\"ro\"] in ['int64', 'datetime64[ns]']"
   ]
  },
  {
   "cell_type": "code",
   "execution_count": 6,
   "metadata": {},
   "outputs": [
    {
     "output_type": "stream",
     "name": "stdout",
     "text": [
      "<class 'pandas.core.frame.DataFrame'>\nRangeIndex: 32724 entries, 0 to 32723\nData columns (total 7 columns):\n #   Column      Non-Null Count  Dtype         \n---  ------      --------------  -----         \n 0   Unnamed: 0  32724 non-null  int64         \n 1   beg_month   32724 non-null  datetime64[ns]\n 2   product     32724 non-null  object        \n 3   region      32724 non-null  object        \n 4   district    32724 non-null  object        \n 5   terr        32724 non-null  object        \n 6   ro          32724 non-null  int64         \ndtypes: datetime64[ns](1), int64(2), object(4)\nmemory usage: 1.7+ MB\n"
     ]
    }
   ],
   "source": [
    "df.info()"
   ]
  },
  {
   "cell_type": "code",
   "execution_count": 7,
   "metadata": {},
   "outputs": [
    {
     "output_type": "execute_result",
     "data": {
      "text/plain": [
       "       Unnamed: 0  beg_month product region district     terr  ro\n",
       "0               0 2017-01-01   ACUTE     A1     R101  TMV1001  30\n",
       "1               1 2017-01-01   ACUTE     A1     R101  TMV1002  31\n",
       "2               2 2017-01-01   ACUTE     A1     R101  TMV1003  24\n",
       "3               3 2017-01-01   ACUTE     A1     R101  TMV2001  37\n",
       "4               4 2017-01-01   ACUTE     A1     R102  TMV1007  17\n",
       "...           ...        ...     ...    ...      ...      ...  ..\n",
       "32719       32719 2021-01-01    HOME     A9     R906  TSV1138  44\n",
       "32720       32720 2021-01-01    HOME     A9     R906  TSV1142  30\n",
       "32721       32721 2021-01-01    HOME     A9     R906  TSV1145  48\n",
       "32722       32722 2021-01-01    HOME     A9     R906  TSV1147  67\n",
       "32723       32723 2021-01-01    HOME     A9     R906  TSV1148  31\n",
       "\n",
       "[32724 rows x 7 columns]"
      ],
      "text/html": "<div>\n<style scoped>\n    .dataframe tbody tr th:only-of-type {\n        vertical-align: middle;\n    }\n\n    .dataframe tbody tr th {\n        vertical-align: top;\n    }\n\n    .dataframe thead th {\n        text-align: right;\n    }\n</style>\n<table border=\"1\" class=\"dataframe\">\n  <thead>\n    <tr style=\"text-align: right;\">\n      <th></th>\n      <th>Unnamed: 0</th>\n      <th>beg_month</th>\n      <th>product</th>\n      <th>region</th>\n      <th>district</th>\n      <th>terr</th>\n      <th>ro</th>\n    </tr>\n  </thead>\n  <tbody>\n    <tr>\n      <th>0</th>\n      <td>0</td>\n      <td>2017-01-01</td>\n      <td>ACUTE</td>\n      <td>A1</td>\n      <td>R101</td>\n      <td>TMV1001</td>\n      <td>30</td>\n    </tr>\n    <tr>\n      <th>1</th>\n      <td>1</td>\n      <td>2017-01-01</td>\n      <td>ACUTE</td>\n      <td>A1</td>\n      <td>R101</td>\n      <td>TMV1002</td>\n      <td>31</td>\n    </tr>\n    <tr>\n      <th>2</th>\n      <td>2</td>\n      <td>2017-01-01</td>\n      <td>ACUTE</td>\n      <td>A1</td>\n      <td>R101</td>\n      <td>TMV1003</td>\n      <td>24</td>\n    </tr>\n    <tr>\n      <th>3</th>\n      <td>3</td>\n      <td>2017-01-01</td>\n      <td>ACUTE</td>\n      <td>A1</td>\n      <td>R101</td>\n      <td>TMV2001</td>\n      <td>37</td>\n    </tr>\n    <tr>\n      <th>4</th>\n      <td>4</td>\n      <td>2017-01-01</td>\n      <td>ACUTE</td>\n      <td>A1</td>\n      <td>R102</td>\n      <td>TMV1007</td>\n      <td>17</td>\n    </tr>\n    <tr>\n      <th>...</th>\n      <td>...</td>\n      <td>...</td>\n      <td>...</td>\n      <td>...</td>\n      <td>...</td>\n      <td>...</td>\n      <td>...</td>\n    </tr>\n    <tr>\n      <th>32719</th>\n      <td>32719</td>\n      <td>2021-01-01</td>\n      <td>HOME</td>\n      <td>A9</td>\n      <td>R906</td>\n      <td>TSV1138</td>\n      <td>44</td>\n    </tr>\n    <tr>\n      <th>32720</th>\n      <td>32720</td>\n      <td>2021-01-01</td>\n      <td>HOME</td>\n      <td>A9</td>\n      <td>R906</td>\n      <td>TSV1142</td>\n      <td>30</td>\n    </tr>\n    <tr>\n      <th>32721</th>\n      <td>32721</td>\n      <td>2021-01-01</td>\n      <td>HOME</td>\n      <td>A9</td>\n      <td>R906</td>\n      <td>TSV1145</td>\n      <td>48</td>\n    </tr>\n    <tr>\n      <th>32722</th>\n      <td>32722</td>\n      <td>2021-01-01</td>\n      <td>HOME</td>\n      <td>A9</td>\n      <td>R906</td>\n      <td>TSV1147</td>\n      <td>67</td>\n    </tr>\n    <tr>\n      <th>32723</th>\n      <td>32723</td>\n      <td>2021-01-01</td>\n      <td>HOME</td>\n      <td>A9</td>\n      <td>R906</td>\n      <td>TSV1148</td>\n      <td>31</td>\n    </tr>\n  </tbody>\n</table>\n<p>32724 rows × 7 columns</p>\n</div>"
     },
     "metadata": {},
     "execution_count": 7
    }
   ],
   "source": [
    "df"
   ]
  },
  {
   "cell_type": "code",
   "execution_count": 52,
   "metadata": {},
   "outputs": [],
   "source": [
    "# flake8: noqa: E501\n",
    "\n",
    "import numpy as np\n",
    "from numpy.core.fromnumeric import mean\n",
    "import pandas as pd\n",
    "from pandas.core.indexes.api import get_objs_combined_axis\n",
    "import pmdarima\n",
    "from datetime import datetime\n",
    "import typing\n",
    "from matplotlib import pyplot as plt\n",
    "import matplotlib.dates as mdates\n",
    "from sklearn.model_selection import TimeSeriesSplit\n",
    "from sklearn.metrics import mean_absolute_error, mean_absolute_percentage_error # upgrade to the the latest scikit-learn pip install -U scikit-learn\n",
    "\n",
    "## Changes to be made\n",
    "## 1 would like to add an argument \n",
    "\n",
    "class TSFM(object):\n",
    "    def __init__(self,\n",
    "                 df: pd.core.frame.DataFrame,\n",
    "                 n_pred_period: int,\n",
    "                 date_variable: typing.Union[int, str],\n",
    "                 value_variable: typing.Union[int, str],\n",
    "                 target_variable: str,\n",
    "                 stop_date: str,         # stop date of train set, to split df to train and test sets\n",
    "                 section_list: list = None,\n",
    "                 cycle_length: int = 12,\n",
    "                 alpha: float = 0.05,):\n",
    "        self.target_variable = target_variable\n",
    "        # self.n_pred_period = n_pred_period + abs((datetime.strptime(df[date_variable].to_numpy()[-1])  - datetime.strptime(stop_date, \"%Y-%m-%d\")).days)\n",
    "        self.n_pred_period = n_pred_period\n",
    "        self.stop_date = stop_date\n",
    "        self.cycle_length = cycle_length\n",
    "        # train and test df must have date as index, and 2 columns: sections(e.g. territory) and values(e.g. order_volume)\n",
    "        if type(date_variable) is int:\n",
    "            date_variable = df.columns[date_variable]\n",
    "        if type(value_variable) is int:\n",
    "            value_variable = df.columns[value_variable]\n",
    "        # Select relevant columns for train and test df, create empty pred df\n",
    "        self.columns = [date_variable, target_variable, value_variable]\n",
    "        df[self.columns[0]] = pd.to_datetime(df[self.columns[0]])\n",
    "        \n",
    "\n",
    "        self.df = df.copy()\n",
    "\n",
    "        # keys: sections(territories), value: list(train, test, pred), for easy storing and fetching data\n",
    "        self.df_dict = dict()\n",
    "        self.model_dict = dict()\n",
    "        self.adjusted_model_dict = dict()\n",
    "\n",
    "        # Iterate through the unique sections\n",
    "        self.section_list = section_list\n",
    "        if self.section_list is None:\n",
    "            self.section_list = df[target_variable].unique()\n",
    "        for section in self.section_list:\n",
    "            print(\"Inspecting\", section, \"...\")\n",
    "            temp_actual_df = self.get_actual_data(section=section, is_adjusted=False)\n",
    "            if temp_actual_df.shape[0] >= 2 * cycle_length:\n",
    "                # train actual data\n",
    "                print(\"Training\", temp_actual_df.shape[0], \"actual records ...\")\n",
    "                arima_model = pmdarima.auto_arima(temp_actual_df[temp_actual_df.columns[-1]],\n",
    "                                                start_p=0, start_P=0,\n",
    "                                                start_q=0, start_Q=0,\n",
    "                                                d=1, D=1,\n",
    "                                                max_p=4, max_P=2,\n",
    "                                                max_d=2, max_D=2,\n",
    "                                                max_q=2, max_Q=2,\n",
    "                                                trace=True, m=cycle_length)\n",
    "                self.model_dict[section] = arima_model\n",
    "\n",
    "                temp_adjusted_actual_df = self.get_actual_data(section=section, is_adjusted=True)\n",
    "                # train adjusted actual data\n",
    "                print(\"Training\", temp_adjusted_actual_df.shape[0], \"adjusted actual records ...\")\n",
    "                arima_model = pmdarima.auto_arima(temp_adjusted_actual_df[temp_adjusted_actual_df.columns[-1]],\n",
    "                                                start_p=0, start_P=0,\n",
    "                                                start_q=0, start_Q=0,\n",
    "                                                d=1, D=1,\n",
    "                                                max_p=4, max_P=2,\n",
    "                                                max_d=2, max_D=2,\n",
    "                                                max_q=2, max_Q=2,\n",
    "                                                trace=True, m=cycle_length)\n",
    "                self.adjusted_model_dict[section] = arima_model\n",
    "            else:\n",
    "                print(\"Number of data points in Section\", section, \"is too small (\" + str(\n",
    "                    temp_actual_df.shape[0]) + \". Must be at least twice the declared cycle length.\")\n",
    "\n",
    "    # DF Getters--------------------------------------------------------------\n",
    "    def get_actual_data(self, section: str, is_adjusted: bool = True,):\n",
    "        agg_df = self.df[self.columns].groupby(self.columns[0:2], as_index=False).sum().copy()\n",
    "        agg_df = agg_df.query(self.columns[1] + \"==\" + \"'\" + section + \"'\")[[self.columns[0], self.columns[2]]]\n",
    "        agg_df.set_index(self.columns[0], inplace=True)\n",
    "        agg_df = TSFM.to_monthly(agg_df)\n",
    "        if is_adjusted:\n",
    "            return self.anomaly_filter(agg_df)\n",
    "        return agg_df.copy()\n",
    "\n",
    "    def get_train_data(self, section: str,):  ## added stop date\n",
    "        actual_df = self.get_actual_data(section)\n",
    "        return actual_df.iloc[lambda x: x.index <= self.stop_date].copy()\n",
    "\n",
    "    def get_test_data(self, section: str,):\n",
    "        actual_df = self.get_actual_data(section)\n",
    "        return actual_df.iloc[lambda x: x.index > self.stop_date].copy()\n",
    "\n",
    "    def get_pred_data(self, section: str, return_conf_int: bool = False, is_adjusted: bool = True):\n",
    "        actual_df = self.get_actual_data(section)\n",
    "        model = self.get_model(section=section, is_adjusted=is_adjusted)\n",
    "        print(model.predict(self.n_pred_period, return_conf_int=return_conf_int))\n",
    "        pred, conf_int = model.predict(self.n_pred_period, return_conf_int=True)\n",
    "\n",
    "        temp_pred_df = pd.DataFrame(\n",
    "            data={\n",
    "                self.columns[0]: pd.date_range(max(actual_df.index),freq='MS',periods=self.n_pred_period+1)[1:],\n",
    "                self.columns[1]: [section for x in range(len(pred))],\n",
    "                self.columns[-1]: pred})  # Use numbers inplace of future dates for now)\n",
    "        temp_pred_df = temp_pred_df[[self.columns[0], self.columns[2]]]\n",
    "        temp_pred_df.set_index(self.columns[0], inplace=True)\n",
    "        if return_conf_int:\n",
    "            return temp_pred_df.copy(), conf_int\n",
    "        return temp_pred_df.copy()\n",
    "\n",
    "    # Model Getters----------------------------------------------------------\n",
    "    def get_model(self, section: str, is_adjusted: bool = True):\n",
    "        if is_adjusted:\n",
    "            return self.adjusted_model_dict[section]\n",
    "        return self.model_dict[section]\n",
    "    \n",
    "    # Plot Function-----------------------------------------------------------\n",
    "    def plot(self, section: str):\n",
    "        actual = self.get_actual_data(section, is_adjusted=False)\n",
    "        adjusted_actual, conf_int_df = self.anomaly_filter(actual, return_conf_int=True)\n",
    "        # pred, ci = self.get_pred_data(section, return_conf_int=True)\n",
    "\n",
    "        actual_pred = self.get_pred_data(section, is_adjusted=False)\n",
    "        adjusted_actual_pred = self.get_pred_data(section, is_adjusted=True)\n",
    "\n",
    "        fig, ax = plt.subplots(figsize=(14,6))\n",
    "        ax.plot(actual.index, actual[actual.columns[0]].to_numpy(),label=\"Actual\")   #Actuals This should come from original DS (all actuals)\n",
    "        ax.plot(adjusted_actual.index, adjusted_actual[adjusted_actual.columns[0]].to_numpy(),'-g', label=\"Adjusted Actual\")   \n",
    "        # ax.plot(pred.index, pred[pred.columns[0]], '-r',alpha=0.75,label=\"Forecast\")  ## Pred\n",
    "        ax.fill_between(conf_int_df.index, conf_int_df.iloc[:, 0], conf_int_df.iloc[:, 1],alpha=0.3, color='b')  ## Conf intervals\n",
    "        \n",
    "        ax.plot(actual_pred.index, actual_pred.iloc[:, 0], '--b',alpha=0.75,label=\"Actual Forecast\")\n",
    "        ax.plot(adjusted_actual_pred.index, adjusted_actual_pred.iloc[:, 0], '--g',alpha=0.75,label=\"Adjusted Actual Forecast\")\n",
    "        plt.title('Forecast Model')\n",
    "        plt.xlabel('Year')\n",
    "        plt.ylabel('Forecast Accurary')\n",
    "\n",
    "        ax.xaxis.set_major_locator(mdates.YearLocator())\n",
    "        ax.xaxis.set_major_formatter(mdates.DateFormatter('%Y'))\n",
    "        ax.xaxis.set_minor_locator(mdates.MonthLocator())\n",
    "\n",
    "        plt.legend()\n",
    "        plt.show()\n",
    "\n",
    "    def anomaly_filter(self,\n",
    "                       df: pd.core.frame.DataFrame,\n",
    "                       return_conf_int: bool = False, \n",
    "                       n_rolling_period: int = 12,\n",
    "                       alpha: float = 0.05):\n",
    "        train = df.iloc[lambda x: x.index <= self.stop_date]\n",
    "        stop_date = max(train.index)\n",
    "        returning_ic_list = list()\n",
    "        for i in range(train.shape[0], df.shape[0], 12):\n",
    "            arima_model = pmdarima.auto_arima(train[train.columns[0]],\n",
    "                                                start_p=0, start_P=0,\n",
    "                                                start_q=0, start_Q=0,\n",
    "                                                d=1, D=1,\n",
    "                                                max_p=4, max_P=2,\n",
    "                                                max_d=2, max_D=2,\n",
    "                                                max_q=2, max_Q=2,\n",
    "                                                trace=True, m=self.cycle_length)\n",
    "            temp_actual_df = df.iloc[i:min(i+12, df.shape[0]), :]\n",
    "            temp_pred, ic_list = arima_model.predict(n_rolling_period, return_conf_int=True, alpha=alpha)\n",
    "            for j in range(temp_actual_df.shape[0]):\n",
    "                temp_actual = temp_actual_df.iloc[j, 0]\n",
    "                ic = ic_list[j]\n",
    "                if temp_actual < ic[0] or temp_actual > ic[1]:\n",
    "                    temp_actual_df.iloc[j, 0] = temp_pred[j]\n",
    "            train = train.append(temp_actual_df)\n",
    "            returning_ic_list = returning_ic_list + ic_list.tolist()\n",
    "        train[train.columns[0]] = train[train.columns[0]].astype('float')\n",
    "        if return_conf_int:\n",
    "            returning_ic_list = np.array(returning_ic_list)\n",
    "            ic_df = pd.DataFrame(\n",
    "                data={\n",
    "                    'lower': returning_ic_list[:, 0],\n",
    "                    'upper': returning_ic_list[:, 1],\n",
    "                },\n",
    "                index=pd.date_range(stop_date,freq='MS',periods=returning_ic_list.shape[0]+1)[1:]\n",
    "            )\n",
    "            return train, ic_df\n",
    "        return train\n",
    "    \n",
    "    def cross_validate(self,section: str, is_adjusted: bool):\n",
    "        actual_df = self.get_actual_data(section, is_adjusted)\n",
    "        actual_arr = actual_df[actual_df.columns[0]].to_numpy(dtype='float')\n",
    "        trained_model = self.get_model(section, is_adjusted)\n",
    "        order = trained_model.order\n",
    "        seasonal_order = trained_model.seasonal_order\n",
    "\n",
    "        model = pmdarima.ARIMA(order = order, seasonal_order=seasonal_order)\n",
    "        MAE = list()\n",
    "        MAPE = list()\n",
    "        tscv = TimeSeriesSplit(10)\n",
    "        for train_index, test_index in tscv.split(X=actual_df.index):\n",
    "            if len(train_index) >= 24:\n",
    "                print(\"train_index = {}\".format(train_index))\n",
    "                print(\"test_index = {}\".format(test_index))\n",
    "                train = actual_arr[train_index]\n",
    "                test = actual_arr[test_index]\n",
    "                print(\"train = {}\".format(train))\n",
    "                print(\"test = {}\".format(test))\n",
    "                model.fit(train)\n",
    "                pred = model.predict(len(test))\n",
    "                mae = mean_absolute_error(test, pred)\n",
    "                mape = mean_absolute_percentage_error(test, pred)\n",
    "                MAE.append(mae)\n",
    "                MAPE.append(mape)\n",
    "                \n",
    "                print(\"MAE = {}\".format(mae))\n",
    "                print(\"MAPE = {}\".format(mape))\n",
    "                print(\"-\"*50)\n",
    "            else:\n",
    "                pass\n",
    "        print(\"MAE = {}\".format(MAE))\n",
    "        print(\"MAPE = {}\".format(MAPE))\n",
    "        print(\"Average MAE = {}\".format(np.mean(MAE)))\n",
    "        print(\"Average MAPE = {}\".format(np.mean(MAPE)))\n",
    "\n",
    "    @classmethod\n",
    "    def to_monthly(cls, df: pd.core.frame.DataFrame) -> pd.core.frame.DataFrame:\n",
    "        return df.resample('MS').sum()\n"
   ]
  },
  {
   "cell_type": "code",
   "execution_count": 53,
   "metadata": {},
   "outputs": [
    {
     "output_type": "stream",
     "name": "stdout",
     "text": [
      "Inspecting HOME ...\n",
      "Training 49 actual records ...\n",
      "Performing stepwise search to minimize aic\n",
      " ARIMA(0,1,0)(0,1,0)[12]             : AIC=604.245, Time=0.01 sec\n",
      " ARIMA(1,1,0)(1,1,0)[12]             : AIC=607.707, Time=0.07 sec\n",
      " ARIMA(0,1,1)(0,1,1)[12]             : AIC=607.531, Time=0.06 sec\n",
      " ARIMA(0,1,0)(1,1,0)[12]             : AIC=606.084, Time=0.10 sec\n",
      " ARIMA(0,1,0)(0,1,1)[12]             : AIC=605.989, Time=0.04 sec\n",
      " ARIMA(0,1,0)(1,1,1)[12]             : AIC=607.812, Time=0.10 sec\n",
      " ARIMA(1,1,0)(0,1,0)[12]             : AIC=605.923, Time=0.01 sec\n",
      " ARIMA(0,1,1)(0,1,0)[12]             : AIC=605.856, Time=0.02 sec\n",
      " ARIMA(1,1,1)(0,1,0)[12]             : AIC=606.135, Time=0.12 sec\n",
      " ARIMA(0,1,0)(0,1,0)[12] intercept   : AIC=605.924, Time=0.01 sec\n",
      "\n",
      "Best model:  ARIMA(0,1,0)(0,1,0)[12]          \n",
      "Total fit time: 0.537 seconds\n",
      "Performing stepwise search to minimize aic\n",
      " ARIMA(0,1,0)(0,1,0)[12]             : AIC=412.762, Time=0.01 sec\n",
      " ARIMA(1,1,0)(1,1,0)[12]             : AIC=415.533, Time=0.13 sec\n",
      " ARIMA(0,1,1)(0,1,1)[12]             : AIC=414.340, Time=0.14 sec\n",
      " ARIMA(0,1,0)(1,1,0)[12]             : AIC=414.748, Time=0.08 sec\n",
      " ARIMA(0,1,0)(0,1,1)[12]             : AIC=414.762, Time=0.03 sec\n",
      " ARIMA(0,1,0)(1,1,1)[12]             : AIC=416.718, Time=0.24 sec\n",
      " ARIMA(1,1,0)(0,1,0)[12]             : AIC=413.543, Time=0.03 sec\n",
      " ARIMA(0,1,1)(0,1,0)[12]             : AIC=412.348, Time=0.05 sec\n",
      " ARIMA(0,1,1)(1,1,0)[12]             : AIC=414.340, Time=0.16 sec\n",
      " ARIMA(0,1,1)(1,1,1)[12]             : AIC=inf, Time=0.26 sec\n",
      " ARIMA(1,1,1)(0,1,0)[12]             : AIC=413.196, Time=0.08 sec\n",
      " ARIMA(0,1,2)(0,1,0)[12]             : AIC=412.036, Time=0.09 sec\n",
      " ARIMA(0,1,2)(1,1,0)[12]             : AIC=413.947, Time=0.20 sec\n",
      " ARIMA(0,1,2)(0,1,1)[12]             : AIC=413.947, Time=0.25 sec\n",
      " ARIMA(0,1,2)(1,1,1)[12]             : AIC=inf, Time=0.71 sec\n",
      " ARIMA(1,1,2)(0,1,0)[12]             : AIC=410.570, Time=0.14 sec\n",
      " ARIMA(1,1,2)(1,1,0)[12]             : AIC=412.548, Time=0.36 sec\n",
      " ARIMA(1,1,2)(0,1,1)[12]             : AIC=412.548, Time=0.30 sec\n",
      " ARIMA(1,1,2)(1,1,1)[12]             : AIC=inf, Time=0.38 sec\n",
      " ARIMA(2,1,2)(0,1,0)[12]             : AIC=412.298, Time=0.11 sec\n",
      " ARIMA(2,1,1)(0,1,0)[12]             : AIC=410.610, Time=0.13 sec\n",
      " ARIMA(1,1,2)(0,1,0)[12] intercept   : AIC=inf, Time=0.20 sec\n",
      "\n",
      "Best model:  ARIMA(1,1,2)(0,1,0)[12]          \n",
      "Total fit time: 4.095 seconds\n",
      "Training 49 adjusted actual records ...\n",
      "Performing stepwise search to minimize aic\n",
      " ARIMA(0,1,0)(0,1,0)[12]             : AIC=564.159, Time=0.01 sec\n",
      " ARIMA(1,1,0)(1,1,0)[12]             : AIC=564.576, Time=0.06 sec\n",
      " ARIMA(0,1,1)(0,1,1)[12]             : AIC=559.858, Time=0.16 sec\n",
      " ARIMA(0,1,1)(0,1,0)[12]             : AIC=558.010, Time=0.05 sec\n",
      " ARIMA(0,1,1)(1,1,0)[12]             : AIC=559.853, Time=0.20 sec\n",
      " ARIMA(0,1,1)(1,1,1)[12]             : AIC=inf, Time=0.27 sec\n",
      " ARIMA(1,1,1)(0,1,0)[12]             : AIC=559.072, Time=0.09 sec\n",
      " ARIMA(0,1,2)(0,1,0)[12]             : AIC=558.449, Time=0.08 sec\n",
      " ARIMA(1,1,0)(0,1,0)[12]             : AIC=562.977, Time=0.04 sec\n",
      " ARIMA(1,1,2)(0,1,0)[12]             : AIC=inf, Time=0.12 sec\n",
      " ARIMA(0,1,1)(0,1,0)[12] intercept   : AIC=inf, Time=0.13 sec\n",
      "\n",
      "Best model:  ARIMA(0,1,1)(0,1,0)[12]          \n",
      "Total fit time: 1.217 seconds\n",
      "Inspecting ACUTE ...\n",
      "Training 49 actual records ...\n",
      "Performing stepwise search to minimize aic\n",
      " ARIMA(0,1,0)(0,1,0)[12]             : AIC=553.286, Time=0.01 sec\n",
      " ARIMA(1,1,0)(1,1,0)[12]             : AIC=556.781, Time=0.06 sec\n",
      " ARIMA(0,1,1)(0,1,1)[12]             : AIC=556.317, Time=0.15 sec\n",
      " ARIMA(0,1,0)(1,1,0)[12]             : AIC=554.881, Time=0.09 sec\n",
      " ARIMA(0,1,0)(0,1,1)[12]             : AIC=554.566, Time=0.09 sec\n",
      " ARIMA(0,1,0)(1,1,1)[12]             : AIC=556.429, Time=0.09 sec\n",
      " ARIMA(1,1,0)(0,1,0)[12]             : AIC=555.153, Time=0.01 sec\n",
      " ARIMA(0,1,1)(0,1,0)[12]             : AIC=554.970, Time=0.05 sec\n",
      " ARIMA(1,1,1)(0,1,0)[12]             : AIC=552.921, Time=0.13 sec\n",
      " ARIMA(1,1,1)(1,1,0)[12]             : AIC=554.763, Time=0.32 sec\n",
      " ARIMA(1,1,1)(0,1,1)[12]             : AIC=554.663, Time=0.29 sec\n",
      " ARIMA(1,1,1)(1,1,1)[12]             : AIC=556.531, Time=0.73 sec\n",
      " ARIMA(2,1,1)(0,1,0)[12]             : AIC=555.426, Time=0.12 sec\n",
      " ARIMA(1,1,2)(0,1,0)[12]             : AIC=552.154, Time=0.11 sec\n",
      " ARIMA(1,1,2)(1,1,0)[12]             : AIC=553.996, Time=0.29 sec\n",
      " ARIMA(1,1,2)(0,1,1)[12]             : AIC=553.959, Time=0.28 sec\n",
      " ARIMA(1,1,2)(1,1,1)[12]             : AIC=555.926, Time=0.59 sec\n",
      " ARIMA(0,1,2)(0,1,0)[12]             : AIC=550.156, Time=0.09 sec\n",
      " ARIMA(0,1,2)(1,1,0)[12]             : AIC=552.001, Time=0.20 sec\n",
      " ARIMA(0,1,2)(0,1,1)[12]             : AIC=551.962, Time=0.20 sec\n",
      " ARIMA(0,1,2)(1,1,1)[12]             : AIC=553.927, Time=0.34 sec\n",
      " ARIMA(0,1,2)(0,1,0)[12] intercept   : AIC=inf, Time=0.17 sec\n",
      "\n",
      "Best model:  ARIMA(0,1,2)(0,1,0)[12]          \n",
      "Total fit time: 4.418 seconds\n",
      "Performing stepwise search to minimize aic\n",
      " ARIMA(0,1,0)(0,1,0)[12]             : AIC=375.176, Time=0.01 sec\n",
      " ARIMA(1,1,0)(1,1,0)[12]             : AIC=370.356, Time=0.12 sec\n",
      " ARIMA(0,1,1)(0,1,1)[12]             : AIC=inf, Time=0.13 sec\n",
      " ARIMA(1,1,0)(0,1,0)[12]             : AIC=369.066, Time=0.04 sec\n",
      " ARIMA(1,1,0)(0,1,1)[12]             : AIC=370.360, Time=0.13 sec\n",
      " ARIMA(1,1,0)(1,1,1)[12]             : AIC=372.348, Time=0.19 sec\n",
      " ARIMA(2,1,0)(0,1,0)[12]             : AIC=369.964, Time=0.06 sec\n",
      " ARIMA(1,1,1)(0,1,0)[12]             : AIC=inf, Time=0.06 sec\n",
      " ARIMA(0,1,1)(0,1,0)[12]             : AIC=inf, Time=0.04 sec\n",
      " ARIMA(2,1,1)(0,1,0)[12]             : AIC=inf, Time=0.11 sec\n",
      " ARIMA(1,1,0)(0,1,0)[12] intercept   : AIC=370.841, Time=0.05 sec\n",
      "\n",
      "Best model:  ARIMA(1,1,0)(0,1,0)[12]          \n",
      "Total fit time: 0.952 seconds\n",
      "Training 49 adjusted actual records ...\n",
      "Performing stepwise search to minimize aic\n",
      " ARIMA(0,1,0)(0,1,0)[12]             : AIC=521.942, Time=0.01 sec\n",
      " ARIMA(1,1,0)(1,1,0)[12]             : AIC=509.395, Time=0.14 sec\n",
      " ARIMA(0,1,1)(0,1,1)[12]             : AIC=505.034, Time=0.14 sec\n",
      " ARIMA(0,1,1)(0,1,0)[12]             : AIC=503.455, Time=0.04 sec\n",
      " ARIMA(0,1,1)(1,1,0)[12]             : AIC=505.239, Time=0.15 sec\n",
      " ARIMA(0,1,1)(1,1,1)[12]             : AIC=inf, Time=0.43 sec\n",
      " ARIMA(1,1,1)(0,1,0)[12]             : AIC=505.097, Time=0.08 sec\n",
      " ARIMA(0,1,2)(0,1,0)[12]             : AIC=505.187, Time=0.09 sec\n",
      " ARIMA(1,1,0)(0,1,0)[12]             : AIC=508.156, Time=0.02 sec\n",
      " ARIMA(1,1,2)(0,1,0)[12]             : AIC=506.707, Time=0.14 sec\n",
      " ARIMA(0,1,1)(0,1,0)[12] intercept   : AIC=inf, Time=0.10 sec\n",
      "\n",
      "Best model:  ARIMA(0,1,1)(0,1,0)[12]          \n",
      "Total fit time: 1.349 seconds\n"
     ]
    }
   ],
   "source": [
    "tsfm = TSFM(df=df, n_pred_period=24, date_variable='beg_month', target_variable='product', value_variable='ro', stop_date=\"2020-03-01\", section_list=[\"HOME\", \"ACUTE\"])"
   ]
  },
  {
   "cell_type": "code",
   "execution_count": 20,
   "metadata": {},
   "outputs": [
    {
     "output_type": "execute_result",
     "data": {
      "text/plain": [
       "               ro\n",
       "beg_month        \n",
       "2017-01-01  11260\n",
       "2017-02-01  10906\n",
       "2017-03-01  12657\n",
       "2017-04-01  11245\n",
       "2017-05-01  12505\n",
       "2017-06-01  13015\n",
       "2017-07-01  12051\n",
       "2017-08-01  13442\n",
       "2017-09-01  12377\n",
       "2017-10-01  12783\n",
       "2017-11-01  12226\n",
       "2017-12-01  11993\n",
       "2018-01-01  11990\n",
       "2018-02-01  10944\n",
       "2018-03-01  12720\n",
       "2018-04-01  12085\n",
       "2018-05-01  13223\n",
       "2018-06-01  13027\n",
       "2018-07-01  13266\n",
       "2018-08-01  14358\n",
       "2018-09-01  12463\n",
       "2018-10-01  14154\n",
       "2018-11-01  12756\n",
       "2018-12-01  11957\n",
       "2019-01-01  12493\n",
       "2019-02-01  11554\n",
       "2019-03-01  12903\n",
       "2019-04-01  12931\n",
       "2019-05-01  13587\n",
       "2019-06-01  12418\n",
       "2019-07-01  13355\n",
       "2019-08-01  13787\n",
       "2019-09-01  12452\n",
       "2019-10-01  14285\n",
       "2019-11-01  12524\n",
       "2019-12-01  12513\n",
       "2020-01-01  12997\n",
       "2020-02-01  11965\n",
       "2020-03-01  12655\n",
       "2020-04-01  10643\n",
       "2020-05-01  10875\n",
       "2020-06-01  12530\n",
       "2020-07-01  14009\n",
       "2020-08-01  13518\n",
       "2020-09-01  13804\n",
       "2020-10-01  14414\n",
       "2020-11-01  12468\n",
       "2020-12-01  12878\n",
       "2021-01-01  10204"
      ],
      "text/html": "<div>\n<style scoped>\n    .dataframe tbody tr th:only-of-type {\n        vertical-align: middle;\n    }\n\n    .dataframe tbody tr th {\n        vertical-align: top;\n    }\n\n    .dataframe thead th {\n        text-align: right;\n    }\n</style>\n<table border=\"1\" class=\"dataframe\">\n  <thead>\n    <tr style=\"text-align: right;\">\n      <th></th>\n      <th>ro</th>\n    </tr>\n    <tr>\n      <th>beg_month</th>\n      <th></th>\n    </tr>\n  </thead>\n  <tbody>\n    <tr>\n      <th>2017-01-01</th>\n      <td>11260</td>\n    </tr>\n    <tr>\n      <th>2017-02-01</th>\n      <td>10906</td>\n    </tr>\n    <tr>\n      <th>2017-03-01</th>\n      <td>12657</td>\n    </tr>\n    <tr>\n      <th>2017-04-01</th>\n      <td>11245</td>\n    </tr>\n    <tr>\n      <th>2017-05-01</th>\n      <td>12505</td>\n    </tr>\n    <tr>\n      <th>2017-06-01</th>\n      <td>13015</td>\n    </tr>\n    <tr>\n      <th>2017-07-01</th>\n      <td>12051</td>\n    </tr>\n    <tr>\n      <th>2017-08-01</th>\n      <td>13442</td>\n    </tr>\n    <tr>\n      <th>2017-09-01</th>\n      <td>12377</td>\n    </tr>\n    <tr>\n      <th>2017-10-01</th>\n      <td>12783</td>\n    </tr>\n    <tr>\n      <th>2017-11-01</th>\n      <td>12226</td>\n    </tr>\n    <tr>\n      <th>2017-12-01</th>\n      <td>11993</td>\n    </tr>\n    <tr>\n      <th>2018-01-01</th>\n      <td>11990</td>\n    </tr>\n    <tr>\n      <th>2018-02-01</th>\n      <td>10944</td>\n    </tr>\n    <tr>\n      <th>2018-03-01</th>\n      <td>12720</td>\n    </tr>\n    <tr>\n      <th>2018-04-01</th>\n      <td>12085</td>\n    </tr>\n    <tr>\n      <th>2018-05-01</th>\n      <td>13223</td>\n    </tr>\n    <tr>\n      <th>2018-06-01</th>\n      <td>13027</td>\n    </tr>\n    <tr>\n      <th>2018-07-01</th>\n      <td>13266</td>\n    </tr>\n    <tr>\n      <th>2018-08-01</th>\n      <td>14358</td>\n    </tr>\n    <tr>\n      <th>2018-09-01</th>\n      <td>12463</td>\n    </tr>\n    <tr>\n      <th>2018-10-01</th>\n      <td>14154</td>\n    </tr>\n    <tr>\n      <th>2018-11-01</th>\n      <td>12756</td>\n    </tr>\n    <tr>\n      <th>2018-12-01</th>\n      <td>11957</td>\n    </tr>\n    <tr>\n      <th>2019-01-01</th>\n      <td>12493</td>\n    </tr>\n    <tr>\n      <th>2019-02-01</th>\n      <td>11554</td>\n    </tr>\n    <tr>\n      <th>2019-03-01</th>\n      <td>12903</td>\n    </tr>\n    <tr>\n      <th>2019-04-01</th>\n      <td>12931</td>\n    </tr>\n    <tr>\n      <th>2019-05-01</th>\n      <td>13587</td>\n    </tr>\n    <tr>\n      <th>2019-06-01</th>\n      <td>12418</td>\n    </tr>\n    <tr>\n      <th>2019-07-01</th>\n      <td>13355</td>\n    </tr>\n    <tr>\n      <th>2019-08-01</th>\n      <td>13787</td>\n    </tr>\n    <tr>\n      <th>2019-09-01</th>\n      <td>12452</td>\n    </tr>\n    <tr>\n      <th>2019-10-01</th>\n      <td>14285</td>\n    </tr>\n    <tr>\n      <th>2019-11-01</th>\n      <td>12524</td>\n    </tr>\n    <tr>\n      <th>2019-12-01</th>\n      <td>12513</td>\n    </tr>\n    <tr>\n      <th>2020-01-01</th>\n      <td>12997</td>\n    </tr>\n    <tr>\n      <th>2020-02-01</th>\n      <td>11965</td>\n    </tr>\n    <tr>\n      <th>2020-03-01</th>\n      <td>12655</td>\n    </tr>\n    <tr>\n      <th>2020-04-01</th>\n      <td>10643</td>\n    </tr>\n    <tr>\n      <th>2020-05-01</th>\n      <td>10875</td>\n    </tr>\n    <tr>\n      <th>2020-06-01</th>\n      <td>12530</td>\n    </tr>\n    <tr>\n      <th>2020-07-01</th>\n      <td>14009</td>\n    </tr>\n    <tr>\n      <th>2020-08-01</th>\n      <td>13518</td>\n    </tr>\n    <tr>\n      <th>2020-09-01</th>\n      <td>13804</td>\n    </tr>\n    <tr>\n      <th>2020-10-01</th>\n      <td>14414</td>\n    </tr>\n    <tr>\n      <th>2020-11-01</th>\n      <td>12468</td>\n    </tr>\n    <tr>\n      <th>2020-12-01</th>\n      <td>12878</td>\n    </tr>\n    <tr>\n      <th>2021-01-01</th>\n      <td>10204</td>\n    </tr>\n  </tbody>\n</table>\n</div>"
     },
     "metadata": {},
     "execution_count": 20
    }
   ],
   "source": [
    "tsfm.get_actual_data(\"HOME\", False)"
   ]
  },
  {
   "cell_type": "code",
   "execution_count": 54,
   "metadata": {},
   "outputs": [
    {
     "output_type": "stream",
     "name": "stdout",
     "text": [
      "Performing stepwise search to minimize aic\n",
      " ARIMA(0,1,0)(0,1,0)[12]             : AIC=375.176, Time=0.01 sec\n",
      " ARIMA(1,1,0)(1,1,0)[12]             : AIC=370.356, Time=0.14 sec\n",
      " ARIMA(0,1,1)(0,1,1)[12]             : AIC=inf, Time=0.13 sec\n",
      " ARIMA(1,1,0)(0,1,0)[12]             : AIC=369.066, Time=0.02 sec\n",
      " ARIMA(1,1,0)(0,1,1)[12]             : AIC=370.360, Time=0.15 sec\n",
      " ARIMA(1,1,0)(1,1,1)[12]             : AIC=372.348, Time=0.24 sec\n",
      " ARIMA(2,1,0)(0,1,0)[12]             : AIC=369.964, Time=0.07 sec\n",
      " ARIMA(1,1,1)(0,1,0)[12]             : AIC=inf, Time=0.07 sec\n",
      " ARIMA(0,1,1)(0,1,0)[12]             : AIC=inf, Time=0.04 sec\n",
      " ARIMA(2,1,1)(0,1,0)[12]             : AIC=inf, Time=0.09 sec\n",
      " ARIMA(1,1,0)(0,1,0)[12] intercept   : AIC=370.841, Time=0.59 sec\n",
      "\n",
      "Best model:  ARIMA(1,1,0)(0,1,0)[12]          \n",
      "Total fit time: 1.573 seconds\n",
      "Performing stepwise search to minimize aic\n",
      " ARIMA(0,1,0)(0,1,0)[12]             : AIC=375.176, Time=0.01 sec\n",
      " ARIMA(1,1,0)(1,1,0)[12]             : AIC=370.356, Time=0.13 sec\n",
      " ARIMA(0,1,1)(0,1,1)[12]             : AIC=inf, Time=0.13 sec\n",
      " ARIMA(1,1,0)(0,1,0)[12]             : AIC=369.066, Time=0.03 sec\n",
      " ARIMA(1,1,0)(0,1,1)[12]             : AIC=370.360, Time=0.12 sec\n",
      " ARIMA(1,1,0)(1,1,1)[12]             : AIC=372.348, Time=0.18 sec\n",
      " ARIMA(2,1,0)(0,1,0)[12]             : AIC=369.964, Time=0.06 sec\n",
      " ARIMA(1,1,1)(0,1,0)[12]             : AIC=inf, Time=0.07 sec\n",
      " ARIMA(0,1,1)(0,1,0)[12]             : AIC=inf, Time=0.06 sec\n",
      " ARIMA(2,1,1)(0,1,0)[12]             : AIC=inf, Time=0.13 sec\n",
      " ARIMA(1,1,0)(0,1,0)[12] intercept   : AIC=370.841, Time=0.06 sec\n",
      "\n",
      "Best model:  ARIMA(1,1,0)(0,1,0)[12]          \n",
      "Total fit time: 0.997 seconds\n",
      "[4410.48449174 4649.98295706 3320.98295706 4050.98295706 5080.98295706\n",
      " 5089.98295706 5393.98295706 5533.98295706 5459.98295706 4864.98295706\n",
      " 4749.98295706 3727.98295706 3803.4674488  4042.96591412 2713.96591412\n",
      " 3443.96591412 4473.96591412 4482.96591412 4786.96591412 4926.96591412\n",
      " 4852.96591412 4257.96591412 4142.96591412 3120.96591412]\n",
      "Performing stepwise search to minimize aic\n",
      " ARIMA(0,1,0)(0,1,0)[12]             : AIC=375.176, Time=0.02 sec\n",
      " ARIMA(1,1,0)(1,1,0)[12]             : AIC=370.356, Time=0.15 sec\n",
      " ARIMA(0,1,1)(0,1,1)[12]             : AIC=inf, Time=0.12 sec\n",
      " ARIMA(1,1,0)(0,1,0)[12]             : AIC=369.066, Time=0.03 sec\n",
      " ARIMA(1,1,0)(0,1,1)[12]             : AIC=370.360, Time=0.12 sec\n",
      " ARIMA(1,1,0)(1,1,1)[12]             : AIC=372.348, Time=0.17 sec\n",
      " ARIMA(2,1,0)(0,1,0)[12]             : AIC=369.964, Time=0.06 sec\n",
      " ARIMA(1,1,1)(0,1,0)[12]             : AIC=inf, Time=0.07 sec\n",
      " ARIMA(0,1,1)(0,1,0)[12]             : AIC=inf, Time=0.04 sec\n",
      " ARIMA(2,1,1)(0,1,0)[12]             : AIC=inf, Time=0.11 sec\n",
      " ARIMA(1,1,0)(0,1,0)[12] intercept   : AIC=370.841, Time=0.06 sec\n",
      "\n",
      "Best model:  ARIMA(1,1,0)(0,1,0)[12]          \n",
      "Total fit time: 0.942 seconds\n",
      "[5417.37800749 5044.37800749 5587.81727022 5570.70179326 5475.37800749\n",
      " 5484.37800749 5788.37800749 5928.37800749 5854.37800749 5259.37800749\n",
      " 5144.37800749 5428.71971048 5204.75601498 4831.75601498 5375.19527771\n",
      " 5358.07980075 5262.75601498 5271.75601498 5575.75601498 5715.75601498\n",
      " 5641.75601498 5046.75601498 4931.75601498 5216.09771797]\n"
     ]
    },
    {
     "output_type": "display_data",
     "data": {
      "text/plain": "<Figure size 1008x432 with 1 Axes>",
      "image/svg+xml": "<?xml version=\"1.0\" encoding=\"utf-8\" standalone=\"no\"?>\r\n<!DOCTYPE svg PUBLIC \"-//W3C//DTD SVG 1.1//EN\"\r\n  \"http://www.w3.org/Graphics/SVG/1.1/DTD/svg11.dtd\">\r\n<!-- Created with matplotlib (https://matplotlib.org/) -->\r\n<svg height=\"386.034375pt\" version=\"1.1\" viewBox=\"0 0 841.728125 386.034375\" width=\"841.728125pt\" xmlns=\"http://www.w3.org/2000/svg\" xmlns:xlink=\"http://www.w3.org/1999/xlink\">\r\n <defs>\r\n  <style type=\"text/css\">\r\n*{stroke-linecap:butt;stroke-linejoin:round;}\r\n  </style>\r\n </defs>\r\n <g id=\"figure_1\">\r\n  <g id=\"patch_1\">\r\n   <path d=\"M 0 386.034375 \r\nL 841.728125 386.034375 \r\nL 841.728125 0 \r\nL 0 0 \r\nz\r\n\" style=\"fill:none;\"/>\r\n  </g>\r\n  <g id=\"axes_1\">\r\n   <g id=\"patch_2\">\r\n    <path d=\"M 53.328125 348.478125 \r\nL 834.528125 348.478125 \r\nL 834.528125 22.318125 \r\nL 53.328125 22.318125 \r\nz\r\n\" style=\"fill:#ffffff;\"/>\r\n   </g>\r\n   <g id=\"PolyCollection_1\">\r\n    <defs>\r\n     <path d=\"M 473.262426 -300.719215 \r\nL 473.262426 -230.283553 \r\nL 482.986504 -226.020401 \r\nL 493.034718 -193.007285 \r\nL 502.758796 -212.573876 \r\nL 512.80701 -212.918613 \r\nL 522.855223 -187.382816 \r\nL 532.579301 -220.397016 \r\nL 542.627515 -167.4791 \r\nL 552.351593 -171.195161 \r\nL 562.399807 -179.525774 \r\nL 572.44802 -153.57888 \r\nL 581.523826 -124.618626 \r\nL 581.523826 -287.436696 \r\nL 581.523826 -287.436696 \r\nL 572.44802 -310.131462 \r\nL 562.399807 -329.505756 \r\nL 552.351593 -314.384472 \r\nL 542.627515 -303.385436 \r\nL 532.579301 -348.890795 \r\nL 522.855223 -307.477922 \r\nL 512.80701 -324.971275 \r\nL 502.758796 -314.038996 \r\nL 493.034718 -286.266963 \r\nL 482.986504 -302.618734 \r\nL 473.262426 -300.719215 \r\nz\r\n\" id=\"m0fef2beeff\" style=\"stroke:#0000ff;stroke-opacity:0.3;\"/>\r\n    </defs>\r\n    <g clip-path=\"url(#p3ae9eee42a)\">\r\n     <use style=\"fill:#0000ff;fill-opacity:0.3;stroke:#0000ff;stroke-opacity:0.3;\" x=\"0\" xlink:href=\"#m0fef2beeff\" y=\"386.034375\"/>\r\n    </g>\r\n   </g>\r\n   <g id=\"matplotlib.axis_1\">\r\n    <g id=\"xtick_1\">\r\n     <g id=\"line2d_1\">\r\n      <defs>\r\n       <path d=\"M 0 0 \r\nL 0 3.5 \r\n\" id=\"m10104f782f\" style=\"stroke:#000000;stroke-width:0.8;\"/>\r\n      </defs>\r\n      <g>\r\n       <use style=\"stroke:#000000;stroke-width:0.8;\" x=\"88.837216\" xlink:href=\"#m10104f782f\" y=\"348.478125\"/>\r\n      </g>\r\n     </g>\r\n     <g id=\"text_1\">\r\n      <!-- 2017 -->\r\n      <defs>\r\n       <path d=\"M 19.1875 8.296875 \r\nL 53.609375 8.296875 \r\nL 53.609375 0 \r\nL 7.328125 0 \r\nL 7.328125 8.296875 \r\nQ 12.9375 14.109375 22.625 23.890625 \r\nQ 32.328125 33.6875 34.8125 36.53125 \r\nQ 39.546875 41.84375 41.421875 45.53125 \r\nQ 43.3125 49.21875 43.3125 52.78125 \r\nQ 43.3125 58.59375 39.234375 62.25 \r\nQ 35.15625 65.921875 28.609375 65.921875 \r\nQ 23.96875 65.921875 18.8125 64.3125 \r\nQ 13.671875 62.703125 7.8125 59.421875 \r\nL 7.8125 69.390625 \r\nQ 13.765625 71.78125 18.9375 73 \r\nQ 24.125 74.21875 28.421875 74.21875 \r\nQ 39.75 74.21875 46.484375 68.546875 \r\nQ 53.21875 62.890625 53.21875 53.421875 \r\nQ 53.21875 48.921875 51.53125 44.890625 \r\nQ 49.859375 40.875 45.40625 35.40625 \r\nQ 44.1875 33.984375 37.640625 27.21875 \r\nQ 31.109375 20.453125 19.1875 8.296875 \r\nz\r\n\" id=\"DejaVuSans-50\"/>\r\n       <path d=\"M 31.78125 66.40625 \r\nQ 24.171875 66.40625 20.328125 58.90625 \r\nQ 16.5 51.421875 16.5 36.375 \r\nQ 16.5 21.390625 20.328125 13.890625 \r\nQ 24.171875 6.390625 31.78125 6.390625 \r\nQ 39.453125 6.390625 43.28125 13.890625 \r\nQ 47.125 21.390625 47.125 36.375 \r\nQ 47.125 51.421875 43.28125 58.90625 \r\nQ 39.453125 66.40625 31.78125 66.40625 \r\nz\r\nM 31.78125 74.21875 \r\nQ 44.046875 74.21875 50.515625 64.515625 \r\nQ 56.984375 54.828125 56.984375 36.375 \r\nQ 56.984375 17.96875 50.515625 8.265625 \r\nQ 44.046875 -1.421875 31.78125 -1.421875 \r\nQ 19.53125 -1.421875 13.0625 8.265625 \r\nQ 6.59375 17.96875 6.59375 36.375 \r\nQ 6.59375 54.828125 13.0625 64.515625 \r\nQ 19.53125 74.21875 31.78125 74.21875 \r\nz\r\n\" id=\"DejaVuSans-48\"/>\r\n       <path d=\"M 12.40625 8.296875 \r\nL 28.515625 8.296875 \r\nL 28.515625 63.921875 \r\nL 10.984375 60.40625 \r\nL 10.984375 69.390625 \r\nL 28.421875 72.90625 \r\nL 38.28125 72.90625 \r\nL 38.28125 8.296875 \r\nL 54.390625 8.296875 \r\nL 54.390625 0 \r\nL 12.40625 0 \r\nz\r\n\" id=\"DejaVuSans-49\"/>\r\n       <path d=\"M 8.203125 72.90625 \r\nL 55.078125 72.90625 \r\nL 55.078125 68.703125 \r\nL 28.609375 0 \r\nL 18.3125 0 \r\nL 43.21875 64.59375 \r\nL 8.203125 64.59375 \r\nz\r\n\" id=\"DejaVuSans-55\"/>\r\n      </defs>\r\n      <g transform=\"translate(76.112216 363.076562)scale(0.1 -0.1)\">\r\n       <use xlink:href=\"#DejaVuSans-50\"/>\r\n       <use x=\"63.623047\" xlink:href=\"#DejaVuSans-48\"/>\r\n       <use x=\"127.246094\" xlink:href=\"#DejaVuSans-49\"/>\r\n       <use x=\"190.869141\" xlink:href=\"#DejaVuSans-55\"/>\r\n      </g>\r\n     </g>\r\n    </g>\r\n    <g id=\"xtick_2\">\r\n     <g id=\"line2d_2\">\r\n      <g>\r\n       <use style=\"stroke:#000000;stroke-width:0.8;\" x=\"207.14683\" xlink:href=\"#m10104f782f\" y=\"348.478125\"/>\r\n      </g>\r\n     </g>\r\n     <g id=\"text_2\">\r\n      <!-- 2018 -->\r\n      <defs>\r\n       <path d=\"M 31.78125 34.625 \r\nQ 24.75 34.625 20.71875 30.859375 \r\nQ 16.703125 27.09375 16.703125 20.515625 \r\nQ 16.703125 13.921875 20.71875 10.15625 \r\nQ 24.75 6.390625 31.78125 6.390625 \r\nQ 38.8125 6.390625 42.859375 10.171875 \r\nQ 46.921875 13.96875 46.921875 20.515625 \r\nQ 46.921875 27.09375 42.890625 30.859375 \r\nQ 38.875 34.625 31.78125 34.625 \r\nz\r\nM 21.921875 38.8125 \r\nQ 15.578125 40.375 12.03125 44.71875 \r\nQ 8.5 49.078125 8.5 55.328125 \r\nQ 8.5 64.0625 14.71875 69.140625 \r\nQ 20.953125 74.21875 31.78125 74.21875 \r\nQ 42.671875 74.21875 48.875 69.140625 \r\nQ 55.078125 64.0625 55.078125 55.328125 \r\nQ 55.078125 49.078125 51.53125 44.71875 \r\nQ 48 40.375 41.703125 38.8125 \r\nQ 48.828125 37.15625 52.796875 32.3125 \r\nQ 56.78125 27.484375 56.78125 20.515625 \r\nQ 56.78125 9.90625 50.3125 4.234375 \r\nQ 43.84375 -1.421875 31.78125 -1.421875 \r\nQ 19.734375 -1.421875 13.25 4.234375 \r\nQ 6.78125 9.90625 6.78125 20.515625 \r\nQ 6.78125 27.484375 10.78125 32.3125 \r\nQ 14.796875 37.15625 21.921875 38.8125 \r\nz\r\nM 18.3125 54.390625 \r\nQ 18.3125 48.734375 21.84375 45.5625 \r\nQ 25.390625 42.390625 31.78125 42.390625 \r\nQ 38.140625 42.390625 41.71875 45.5625 \r\nQ 45.3125 48.734375 45.3125 54.390625 \r\nQ 45.3125 60.0625 41.71875 63.234375 \r\nQ 38.140625 66.40625 31.78125 66.40625 \r\nQ 25.390625 66.40625 21.84375 63.234375 \r\nQ 18.3125 60.0625 18.3125 54.390625 \r\nz\r\n\" id=\"DejaVuSans-56\"/>\r\n      </defs>\r\n      <g transform=\"translate(194.42183 363.076562)scale(0.1 -0.1)\">\r\n       <use xlink:href=\"#DejaVuSans-50\"/>\r\n       <use x=\"63.623047\" xlink:href=\"#DejaVuSans-48\"/>\r\n       <use x=\"127.246094\" xlink:href=\"#DejaVuSans-49\"/>\r\n       <use x=\"190.869141\" xlink:href=\"#DejaVuSans-56\"/>\r\n      </g>\r\n     </g>\r\n    </g>\r\n    <g id=\"xtick_3\">\r\n     <g id=\"line2d_3\">\r\n      <g>\r\n       <use style=\"stroke:#000000;stroke-width:0.8;\" x=\"325.456443\" xlink:href=\"#m10104f782f\" y=\"348.478125\"/>\r\n      </g>\r\n     </g>\r\n     <g id=\"text_3\">\r\n      <!-- 2019 -->\r\n      <defs>\r\n       <path d=\"M 10.984375 1.515625 \r\nL 10.984375 10.5 \r\nQ 14.703125 8.734375 18.5 7.8125 \r\nQ 22.3125 6.890625 25.984375 6.890625 \r\nQ 35.75 6.890625 40.890625 13.453125 \r\nQ 46.046875 20.015625 46.78125 33.40625 \r\nQ 43.953125 29.203125 39.59375 26.953125 \r\nQ 35.25 24.703125 29.984375 24.703125 \r\nQ 19.046875 24.703125 12.671875 31.3125 \r\nQ 6.296875 37.9375 6.296875 49.421875 \r\nQ 6.296875 60.640625 12.9375 67.421875 \r\nQ 19.578125 74.21875 30.609375 74.21875 \r\nQ 43.265625 74.21875 49.921875 64.515625 \r\nQ 56.59375 54.828125 56.59375 36.375 \r\nQ 56.59375 19.140625 48.40625 8.859375 \r\nQ 40.234375 -1.421875 26.421875 -1.421875 \r\nQ 22.703125 -1.421875 18.890625 -0.6875 \r\nQ 15.09375 0.046875 10.984375 1.515625 \r\nz\r\nM 30.609375 32.421875 \r\nQ 37.25 32.421875 41.125 36.953125 \r\nQ 45.015625 41.5 45.015625 49.421875 \r\nQ 45.015625 57.28125 41.125 61.84375 \r\nQ 37.25 66.40625 30.609375 66.40625 \r\nQ 23.96875 66.40625 20.09375 61.84375 \r\nQ 16.21875 57.28125 16.21875 49.421875 \r\nQ 16.21875 41.5 20.09375 36.953125 \r\nQ 23.96875 32.421875 30.609375 32.421875 \r\nz\r\n\" id=\"DejaVuSans-57\"/>\r\n      </defs>\r\n      <g transform=\"translate(312.731443 363.076562)scale(0.1 -0.1)\">\r\n       <use xlink:href=\"#DejaVuSans-50\"/>\r\n       <use x=\"63.623047\" xlink:href=\"#DejaVuSans-48\"/>\r\n       <use x=\"127.246094\" xlink:href=\"#DejaVuSans-49\"/>\r\n       <use x=\"190.869141\" xlink:href=\"#DejaVuSans-57\"/>\r\n      </g>\r\n     </g>\r\n    </g>\r\n    <g id=\"xtick_4\">\r\n     <g id=\"line2d_4\">\r\n      <g>\r\n       <use style=\"stroke:#000000;stroke-width:0.8;\" x=\"443.766057\" xlink:href=\"#m10104f782f\" y=\"348.478125\"/>\r\n      </g>\r\n     </g>\r\n     <g id=\"text_4\">\r\n      <!-- 2020 -->\r\n      <g transform=\"translate(431.041057 363.076562)scale(0.1 -0.1)\">\r\n       <use xlink:href=\"#DejaVuSans-50\"/>\r\n       <use x=\"63.623047\" xlink:href=\"#DejaVuSans-48\"/>\r\n       <use x=\"127.246094\" xlink:href=\"#DejaVuSans-50\"/>\r\n       <use x=\"190.869141\" xlink:href=\"#DejaVuSans-48\"/>\r\n      </g>\r\n     </g>\r\n    </g>\r\n    <g id=\"xtick_5\">\r\n     <g id=\"line2d_5\">\r\n      <g>\r\n       <use style=\"stroke:#000000;stroke-width:0.8;\" x=\"562.399807\" xlink:href=\"#m10104f782f\" y=\"348.478125\"/>\r\n      </g>\r\n     </g>\r\n     <g id=\"text_5\">\r\n      <!-- 2021 -->\r\n      <g transform=\"translate(549.674807 363.076562)scale(0.1 -0.1)\">\r\n       <use xlink:href=\"#DejaVuSans-50\"/>\r\n       <use x=\"63.623047\" xlink:href=\"#DejaVuSans-48\"/>\r\n       <use x=\"127.246094\" xlink:href=\"#DejaVuSans-50\"/>\r\n       <use x=\"190.869141\" xlink:href=\"#DejaVuSans-49\"/>\r\n      </g>\r\n     </g>\r\n    </g>\r\n    <g id=\"xtick_6\">\r\n     <g id=\"line2d_6\">\r\n      <g>\r\n       <use style=\"stroke:#000000;stroke-width:0.8;\" x=\"680.70942\" xlink:href=\"#m10104f782f\" y=\"348.478125\"/>\r\n      </g>\r\n     </g>\r\n     <g id=\"text_6\">\r\n      <!-- 2022 -->\r\n      <g transform=\"translate(667.98442 363.076562)scale(0.1 -0.1)\">\r\n       <use xlink:href=\"#DejaVuSans-50\"/>\r\n       <use x=\"63.623047\" xlink:href=\"#DejaVuSans-48\"/>\r\n       <use x=\"127.246094\" xlink:href=\"#DejaVuSans-50\"/>\r\n       <use x=\"190.869141\" xlink:href=\"#DejaVuSans-50\"/>\r\n      </g>\r\n     </g>\r\n    </g>\r\n    <g id=\"xtick_7\">\r\n     <g id=\"line2d_7\">\r\n      <g>\r\n       <use style=\"stroke:#000000;stroke-width:0.8;\" x=\"799.019034\" xlink:href=\"#m10104f782f\" y=\"348.478125\"/>\r\n      </g>\r\n     </g>\r\n     <g id=\"text_7\">\r\n      <!-- 2023 -->\r\n      <defs>\r\n       <path d=\"M 40.578125 39.3125 \r\nQ 47.65625 37.796875 51.625 33 \r\nQ 55.609375 28.21875 55.609375 21.1875 \r\nQ 55.609375 10.40625 48.1875 4.484375 \r\nQ 40.765625 -1.421875 27.09375 -1.421875 \r\nQ 22.515625 -1.421875 17.65625 -0.515625 \r\nQ 12.796875 0.390625 7.625 2.203125 \r\nL 7.625 11.71875 \r\nQ 11.71875 9.328125 16.59375 8.109375 \r\nQ 21.484375 6.890625 26.8125 6.890625 \r\nQ 36.078125 6.890625 40.9375 10.546875 \r\nQ 45.796875 14.203125 45.796875 21.1875 \r\nQ 45.796875 27.640625 41.28125 31.265625 \r\nQ 36.765625 34.90625 28.71875 34.90625 \r\nL 20.21875 34.90625 \r\nL 20.21875 43.015625 \r\nL 29.109375 43.015625 \r\nQ 36.375 43.015625 40.234375 45.921875 \r\nQ 44.09375 48.828125 44.09375 54.296875 \r\nQ 44.09375 59.90625 40.109375 62.90625 \r\nQ 36.140625 65.921875 28.71875 65.921875 \r\nQ 24.65625 65.921875 20.015625 65.03125 \r\nQ 15.375 64.15625 9.8125 62.3125 \r\nL 9.8125 71.09375 \r\nQ 15.4375 72.65625 20.34375 73.4375 \r\nQ 25.25 74.21875 29.59375 74.21875 \r\nQ 40.828125 74.21875 47.359375 69.109375 \r\nQ 53.90625 64.015625 53.90625 55.328125 \r\nQ 53.90625 49.265625 50.4375 45.09375 \r\nQ 46.96875 40.921875 40.578125 39.3125 \r\nz\r\n\" id=\"DejaVuSans-51\"/>\r\n      </defs>\r\n      <g transform=\"translate(786.294034 363.076562)scale(0.1 -0.1)\">\r\n       <use xlink:href=\"#DejaVuSans-50\"/>\r\n       <use x=\"63.623047\" xlink:href=\"#DejaVuSans-48\"/>\r\n       <use x=\"127.246094\" xlink:href=\"#DejaVuSans-50\"/>\r\n       <use x=\"190.869141\" xlink:href=\"#DejaVuSans-51\"/>\r\n      </g>\r\n     </g>\r\n    </g>\r\n    <g id=\"xtick_8\">\r\n     <g id=\"line2d_8\">\r\n      <defs>\r\n       <path d=\"M 0 0 \r\nL 0 2 \r\n\" id=\"m9b2eaaf59b\" style=\"stroke:#000000;stroke-width:0.6;\"/>\r\n      </defs>\r\n      <g>\r\n       <use style=\"stroke:#000000;stroke-width:0.6;\" x=\"59.016711\" xlink:href=\"#m9b2eaaf59b\" y=\"348.478125\"/>\r\n      </g>\r\n     </g>\r\n    </g>\r\n    <g id=\"xtick_9\">\r\n     <g id=\"line2d_9\">\r\n      <g>\r\n       <use style=\"stroke:#000000;stroke-width:0.6;\" x=\"69.064924\" xlink:href=\"#m9b2eaaf59b\" y=\"348.478125\"/>\r\n      </g>\r\n     </g>\r\n    </g>\r\n    <g id=\"xtick_10\">\r\n     <g id=\"line2d_10\">\r\n      <g>\r\n       <use style=\"stroke:#000000;stroke-width:0.6;\" x=\"78.789002\" xlink:href=\"#m9b2eaaf59b\" y=\"348.478125\"/>\r\n      </g>\r\n     </g>\r\n    </g>\r\n    <g id=\"xtick_11\">\r\n     <g id=\"line2d_11\">\r\n      <g>\r\n       <use style=\"stroke:#000000;stroke-width:0.6;\" x=\"98.88543\" xlink:href=\"#m9b2eaaf59b\" y=\"348.478125\"/>\r\n      </g>\r\n     </g>\r\n    </g>\r\n    <g id=\"xtick_12\">\r\n     <g id=\"line2d_12\">\r\n      <g>\r\n       <use style=\"stroke:#000000;stroke-width:0.6;\" x=\"107.961236\" xlink:href=\"#m9b2eaaf59b\" y=\"348.478125\"/>\r\n      </g>\r\n     </g>\r\n    </g>\r\n    <g id=\"xtick_13\">\r\n     <g id=\"line2d_13\">\r\n      <g>\r\n       <use style=\"stroke:#000000;stroke-width:0.6;\" x=\"118.009449\" xlink:href=\"#m9b2eaaf59b\" y=\"348.478125\"/>\r\n      </g>\r\n     </g>\r\n    </g>\r\n    <g id=\"xtick_14\">\r\n     <g id=\"line2d_14\">\r\n      <g>\r\n       <use style=\"stroke:#000000;stroke-width:0.6;\" x=\"127.733527\" xlink:href=\"#m9b2eaaf59b\" y=\"348.478125\"/>\r\n      </g>\r\n     </g>\r\n    </g>\r\n    <g id=\"xtick_15\">\r\n     <g id=\"line2d_15\">\r\n      <g>\r\n       <use style=\"stroke:#000000;stroke-width:0.6;\" x=\"137.781741\" xlink:href=\"#m9b2eaaf59b\" y=\"348.478125\"/>\r\n      </g>\r\n     </g>\r\n    </g>\r\n    <g id=\"xtick_16\">\r\n     <g id=\"line2d_16\">\r\n      <g>\r\n       <use style=\"stroke:#000000;stroke-width:0.6;\" x=\"147.505819\" xlink:href=\"#m9b2eaaf59b\" y=\"348.478125\"/>\r\n      </g>\r\n     </g>\r\n    </g>\r\n    <g id=\"xtick_17\">\r\n     <g id=\"line2d_17\">\r\n      <g>\r\n       <use style=\"stroke:#000000;stroke-width:0.6;\" x=\"157.554033\" xlink:href=\"#m9b2eaaf59b\" y=\"348.478125\"/>\r\n      </g>\r\n     </g>\r\n    </g>\r\n    <g id=\"xtick_18\">\r\n     <g id=\"line2d_18\">\r\n      <g>\r\n       <use style=\"stroke:#000000;stroke-width:0.6;\" x=\"167.602246\" xlink:href=\"#m9b2eaaf59b\" y=\"348.478125\"/>\r\n      </g>\r\n     </g>\r\n    </g>\r\n    <g id=\"xtick_19\">\r\n     <g id=\"line2d_19\">\r\n      <g>\r\n       <use style=\"stroke:#000000;stroke-width:0.6;\" x=\"177.326324\" xlink:href=\"#m9b2eaaf59b\" y=\"348.478125\"/>\r\n      </g>\r\n     </g>\r\n    </g>\r\n    <g id=\"xtick_20\">\r\n     <g id=\"line2d_20\">\r\n      <g>\r\n       <use style=\"stroke:#000000;stroke-width:0.6;\" x=\"187.374538\" xlink:href=\"#m9b2eaaf59b\" y=\"348.478125\"/>\r\n      </g>\r\n     </g>\r\n    </g>\r\n    <g id=\"xtick_21\">\r\n     <g id=\"line2d_21\">\r\n      <g>\r\n       <use style=\"stroke:#000000;stroke-width:0.6;\" x=\"197.098616\" xlink:href=\"#m9b2eaaf59b\" y=\"348.478125\"/>\r\n      </g>\r\n     </g>\r\n    </g>\r\n    <g id=\"xtick_22\">\r\n     <g id=\"line2d_22\">\r\n      <g>\r\n       <use style=\"stroke:#000000;stroke-width:0.6;\" x=\"217.195043\" xlink:href=\"#m9b2eaaf59b\" y=\"348.478125\"/>\r\n      </g>\r\n     </g>\r\n    </g>\r\n    <g id=\"xtick_23\">\r\n     <g id=\"line2d_23\">\r\n      <g>\r\n       <use style=\"stroke:#000000;stroke-width:0.6;\" x=\"226.270849\" xlink:href=\"#m9b2eaaf59b\" y=\"348.478125\"/>\r\n      </g>\r\n     </g>\r\n    </g>\r\n    <g id=\"xtick_24\">\r\n     <g id=\"line2d_24\">\r\n      <g>\r\n       <use style=\"stroke:#000000;stroke-width:0.6;\" x=\"236.319063\" xlink:href=\"#m9b2eaaf59b\" y=\"348.478125\"/>\r\n      </g>\r\n     </g>\r\n    </g>\r\n    <g id=\"xtick_25\">\r\n     <g id=\"line2d_25\">\r\n      <g>\r\n       <use style=\"stroke:#000000;stroke-width:0.6;\" x=\"246.043141\" xlink:href=\"#m9b2eaaf59b\" y=\"348.478125\"/>\r\n      </g>\r\n     </g>\r\n    </g>\r\n    <g id=\"xtick_26\">\r\n     <g id=\"line2d_26\">\r\n      <g>\r\n       <use style=\"stroke:#000000;stroke-width:0.6;\" x=\"256.091355\" xlink:href=\"#m9b2eaaf59b\" y=\"348.478125\"/>\r\n      </g>\r\n     </g>\r\n    </g>\r\n    <g id=\"xtick_27\">\r\n     <g id=\"line2d_27\">\r\n      <g>\r\n       <use style=\"stroke:#000000;stroke-width:0.6;\" x=\"265.815433\" xlink:href=\"#m9b2eaaf59b\" y=\"348.478125\"/>\r\n      </g>\r\n     </g>\r\n    </g>\r\n    <g id=\"xtick_28\">\r\n     <g id=\"line2d_28\">\r\n      <g>\r\n       <use style=\"stroke:#000000;stroke-width:0.6;\" x=\"275.863646\" xlink:href=\"#m9b2eaaf59b\" y=\"348.478125\"/>\r\n      </g>\r\n     </g>\r\n    </g>\r\n    <g id=\"xtick_29\">\r\n     <g id=\"line2d_29\">\r\n      <g>\r\n       <use style=\"stroke:#000000;stroke-width:0.6;\" x=\"285.91186\" xlink:href=\"#m9b2eaaf59b\" y=\"348.478125\"/>\r\n      </g>\r\n     </g>\r\n    </g>\r\n    <g id=\"xtick_30\">\r\n     <g id=\"line2d_30\">\r\n      <g>\r\n       <use style=\"stroke:#000000;stroke-width:0.6;\" x=\"295.635938\" xlink:href=\"#m9b2eaaf59b\" y=\"348.478125\"/>\r\n      </g>\r\n     </g>\r\n    </g>\r\n    <g id=\"xtick_31\">\r\n     <g id=\"line2d_31\">\r\n      <g>\r\n       <use style=\"stroke:#000000;stroke-width:0.6;\" x=\"305.684152\" xlink:href=\"#m9b2eaaf59b\" y=\"348.478125\"/>\r\n      </g>\r\n     </g>\r\n    </g>\r\n    <g id=\"xtick_32\">\r\n     <g id=\"line2d_32\">\r\n      <g>\r\n       <use style=\"stroke:#000000;stroke-width:0.6;\" x=\"315.40823\" xlink:href=\"#m9b2eaaf59b\" y=\"348.478125\"/>\r\n      </g>\r\n     </g>\r\n    </g>\r\n    <g id=\"xtick_33\">\r\n     <g id=\"line2d_33\">\r\n      <g>\r\n       <use style=\"stroke:#000000;stroke-width:0.6;\" x=\"335.504657\" xlink:href=\"#m9b2eaaf59b\" y=\"348.478125\"/>\r\n      </g>\r\n     </g>\r\n    </g>\r\n    <g id=\"xtick_34\">\r\n     <g id=\"line2d_34\">\r\n      <g>\r\n       <use style=\"stroke:#000000;stroke-width:0.6;\" x=\"344.580463\" xlink:href=\"#m9b2eaaf59b\" y=\"348.478125\"/>\r\n      </g>\r\n     </g>\r\n    </g>\r\n    <g id=\"xtick_35\">\r\n     <g id=\"line2d_35\">\r\n      <g>\r\n       <use style=\"stroke:#000000;stroke-width:0.6;\" x=\"354.628677\" xlink:href=\"#m9b2eaaf59b\" y=\"348.478125\"/>\r\n      </g>\r\n     </g>\r\n    </g>\r\n    <g id=\"xtick_36\">\r\n     <g id=\"line2d_36\">\r\n      <g>\r\n       <use style=\"stroke:#000000;stroke-width:0.6;\" x=\"364.352755\" xlink:href=\"#m9b2eaaf59b\" y=\"348.478125\"/>\r\n      </g>\r\n     </g>\r\n    </g>\r\n    <g id=\"xtick_37\">\r\n     <g id=\"line2d_37\">\r\n      <g>\r\n       <use style=\"stroke:#000000;stroke-width:0.6;\" x=\"374.400968\" xlink:href=\"#m9b2eaaf59b\" y=\"348.478125\"/>\r\n      </g>\r\n     </g>\r\n    </g>\r\n    <g id=\"xtick_38\">\r\n     <g id=\"line2d_38\">\r\n      <g>\r\n       <use style=\"stroke:#000000;stroke-width:0.6;\" x=\"384.125046\" xlink:href=\"#m9b2eaaf59b\" y=\"348.478125\"/>\r\n      </g>\r\n     </g>\r\n    </g>\r\n    <g id=\"xtick_39\">\r\n     <g id=\"line2d_39\">\r\n      <g>\r\n       <use style=\"stroke:#000000;stroke-width:0.6;\" x=\"394.17326\" xlink:href=\"#m9b2eaaf59b\" y=\"348.478125\"/>\r\n      </g>\r\n     </g>\r\n    </g>\r\n    <g id=\"xtick_40\">\r\n     <g id=\"line2d_40\">\r\n      <g>\r\n       <use style=\"stroke:#000000;stroke-width:0.6;\" x=\"404.221474\" xlink:href=\"#m9b2eaaf59b\" y=\"348.478125\"/>\r\n      </g>\r\n     </g>\r\n    </g>\r\n    <g id=\"xtick_41\">\r\n     <g id=\"line2d_41\">\r\n      <g>\r\n       <use style=\"stroke:#000000;stroke-width:0.6;\" x=\"413.945552\" xlink:href=\"#m9b2eaaf59b\" y=\"348.478125\"/>\r\n      </g>\r\n     </g>\r\n    </g>\r\n    <g id=\"xtick_42\">\r\n     <g id=\"line2d_42\">\r\n      <g>\r\n       <use style=\"stroke:#000000;stroke-width:0.6;\" x=\"423.993765\" xlink:href=\"#m9b2eaaf59b\" y=\"348.478125\"/>\r\n      </g>\r\n     </g>\r\n    </g>\r\n    <g id=\"xtick_43\">\r\n     <g id=\"line2d_43\">\r\n      <g>\r\n       <use style=\"stroke:#000000;stroke-width:0.6;\" x=\"433.717843\" xlink:href=\"#m9b2eaaf59b\" y=\"348.478125\"/>\r\n      </g>\r\n     </g>\r\n    </g>\r\n    <g id=\"xtick_44\">\r\n     <g id=\"line2d_44\">\r\n      <g>\r\n       <use style=\"stroke:#000000;stroke-width:0.6;\" x=\"453.814271\" xlink:href=\"#m9b2eaaf59b\" y=\"348.478125\"/>\r\n      </g>\r\n     </g>\r\n    </g>\r\n    <g id=\"xtick_45\">\r\n     <g id=\"line2d_45\">\r\n      <g>\r\n       <use style=\"stroke:#000000;stroke-width:0.6;\" x=\"463.214213\" xlink:href=\"#m9b2eaaf59b\" y=\"348.478125\"/>\r\n      </g>\r\n     </g>\r\n    </g>\r\n    <g id=\"xtick_46\">\r\n     <g id=\"line2d_46\">\r\n      <g>\r\n       <use style=\"stroke:#000000;stroke-width:0.6;\" x=\"473.262426\" xlink:href=\"#m9b2eaaf59b\" y=\"348.478125\"/>\r\n      </g>\r\n     </g>\r\n    </g>\r\n    <g id=\"xtick_47\">\r\n     <g id=\"line2d_47\">\r\n      <g>\r\n       <use style=\"stroke:#000000;stroke-width:0.6;\" x=\"482.986504\" xlink:href=\"#m9b2eaaf59b\" y=\"348.478125\"/>\r\n      </g>\r\n     </g>\r\n    </g>\r\n    <g id=\"xtick_48\">\r\n     <g id=\"line2d_48\">\r\n      <g>\r\n       <use style=\"stroke:#000000;stroke-width:0.6;\" x=\"493.034718\" xlink:href=\"#m9b2eaaf59b\" y=\"348.478125\"/>\r\n      </g>\r\n     </g>\r\n    </g>\r\n    <g id=\"xtick_49\">\r\n     <g id=\"line2d_49\">\r\n      <g>\r\n       <use style=\"stroke:#000000;stroke-width:0.6;\" x=\"502.758796\" xlink:href=\"#m9b2eaaf59b\" y=\"348.478125\"/>\r\n      </g>\r\n     </g>\r\n    </g>\r\n    <g id=\"xtick_50\">\r\n     <g id=\"line2d_50\">\r\n      <g>\r\n       <use style=\"stroke:#000000;stroke-width:0.6;\" x=\"512.80701\" xlink:href=\"#m9b2eaaf59b\" y=\"348.478125\"/>\r\n      </g>\r\n     </g>\r\n    </g>\r\n    <g id=\"xtick_51\">\r\n     <g id=\"line2d_51\">\r\n      <g>\r\n       <use style=\"stroke:#000000;stroke-width:0.6;\" x=\"522.855223\" xlink:href=\"#m9b2eaaf59b\" y=\"348.478125\"/>\r\n      </g>\r\n     </g>\r\n    </g>\r\n    <g id=\"xtick_52\">\r\n     <g id=\"line2d_52\">\r\n      <g>\r\n       <use style=\"stroke:#000000;stroke-width:0.6;\" x=\"532.579301\" xlink:href=\"#m9b2eaaf59b\" y=\"348.478125\"/>\r\n      </g>\r\n     </g>\r\n    </g>\r\n    <g id=\"xtick_53\">\r\n     <g id=\"line2d_53\">\r\n      <g>\r\n       <use style=\"stroke:#000000;stroke-width:0.6;\" x=\"542.627515\" xlink:href=\"#m9b2eaaf59b\" y=\"348.478125\"/>\r\n      </g>\r\n     </g>\r\n    </g>\r\n    <g id=\"xtick_54\">\r\n     <g id=\"line2d_54\">\r\n      <g>\r\n       <use style=\"stroke:#000000;stroke-width:0.6;\" x=\"552.351593\" xlink:href=\"#m9b2eaaf59b\" y=\"348.478125\"/>\r\n      </g>\r\n     </g>\r\n    </g>\r\n    <g id=\"xtick_55\">\r\n     <g id=\"line2d_55\">\r\n      <g>\r\n       <use style=\"stroke:#000000;stroke-width:0.6;\" x=\"572.44802\" xlink:href=\"#m9b2eaaf59b\" y=\"348.478125\"/>\r\n      </g>\r\n     </g>\r\n    </g>\r\n    <g id=\"xtick_56\">\r\n     <g id=\"line2d_56\">\r\n      <g>\r\n       <use style=\"stroke:#000000;stroke-width:0.6;\" x=\"581.523826\" xlink:href=\"#m9b2eaaf59b\" y=\"348.478125\"/>\r\n      </g>\r\n     </g>\r\n    </g>\r\n    <g id=\"xtick_57\">\r\n     <g id=\"line2d_57\">\r\n      <g>\r\n       <use style=\"stroke:#000000;stroke-width:0.6;\" x=\"591.57204\" xlink:href=\"#m9b2eaaf59b\" y=\"348.478125\"/>\r\n      </g>\r\n     </g>\r\n    </g>\r\n    <g id=\"xtick_58\">\r\n     <g id=\"line2d_58\">\r\n      <g>\r\n       <use style=\"stroke:#000000;stroke-width:0.6;\" x=\"601.296118\" xlink:href=\"#m9b2eaaf59b\" y=\"348.478125\"/>\r\n      </g>\r\n     </g>\r\n    </g>\r\n    <g id=\"xtick_59\">\r\n     <g id=\"line2d_59\">\r\n      <g>\r\n       <use style=\"stroke:#000000;stroke-width:0.6;\" x=\"611.344332\" xlink:href=\"#m9b2eaaf59b\" y=\"348.478125\"/>\r\n      </g>\r\n     </g>\r\n    </g>\r\n    <g id=\"xtick_60\">\r\n     <g id=\"line2d_60\">\r\n      <g>\r\n       <use style=\"stroke:#000000;stroke-width:0.6;\" x=\"621.06841\" xlink:href=\"#m9b2eaaf59b\" y=\"348.478125\"/>\r\n      </g>\r\n     </g>\r\n    </g>\r\n    <g id=\"xtick_61\">\r\n     <g id=\"line2d_61\">\r\n      <g>\r\n       <use style=\"stroke:#000000;stroke-width:0.6;\" x=\"631.116623\" xlink:href=\"#m9b2eaaf59b\" y=\"348.478125\"/>\r\n      </g>\r\n     </g>\r\n    </g>\r\n    <g id=\"xtick_62\">\r\n     <g id=\"line2d_62\">\r\n      <g>\r\n       <use style=\"stroke:#000000;stroke-width:0.6;\" x=\"641.164837\" xlink:href=\"#m9b2eaaf59b\" y=\"348.478125\"/>\r\n      </g>\r\n     </g>\r\n    </g>\r\n    <g id=\"xtick_63\">\r\n     <g id=\"line2d_63\">\r\n      <g>\r\n       <use style=\"stroke:#000000;stroke-width:0.6;\" x=\"650.888915\" xlink:href=\"#m9b2eaaf59b\" y=\"348.478125\"/>\r\n      </g>\r\n     </g>\r\n    </g>\r\n    <g id=\"xtick_64\">\r\n     <g id=\"line2d_64\">\r\n      <g>\r\n       <use style=\"stroke:#000000;stroke-width:0.6;\" x=\"660.937129\" xlink:href=\"#m9b2eaaf59b\" y=\"348.478125\"/>\r\n      </g>\r\n     </g>\r\n    </g>\r\n    <g id=\"xtick_65\">\r\n     <g id=\"line2d_65\">\r\n      <g>\r\n       <use style=\"stroke:#000000;stroke-width:0.6;\" x=\"670.661207\" xlink:href=\"#m9b2eaaf59b\" y=\"348.478125\"/>\r\n      </g>\r\n     </g>\r\n    </g>\r\n    <g id=\"xtick_66\">\r\n     <g id=\"line2d_66\">\r\n      <g>\r\n       <use style=\"stroke:#000000;stroke-width:0.6;\" x=\"690.757634\" xlink:href=\"#m9b2eaaf59b\" y=\"348.478125\"/>\r\n      </g>\r\n     </g>\r\n    </g>\r\n    <g id=\"xtick_67\">\r\n     <g id=\"line2d_67\">\r\n      <g>\r\n       <use style=\"stroke:#000000;stroke-width:0.6;\" x=\"699.83344\" xlink:href=\"#m9b2eaaf59b\" y=\"348.478125\"/>\r\n      </g>\r\n     </g>\r\n    </g>\r\n    <g id=\"xtick_68\">\r\n     <g id=\"line2d_68\">\r\n      <g>\r\n       <use style=\"stroke:#000000;stroke-width:0.6;\" x=\"709.881654\" xlink:href=\"#m9b2eaaf59b\" y=\"348.478125\"/>\r\n      </g>\r\n     </g>\r\n    </g>\r\n    <g id=\"xtick_69\">\r\n     <g id=\"line2d_69\">\r\n      <g>\r\n       <use style=\"stroke:#000000;stroke-width:0.6;\" x=\"719.605732\" xlink:href=\"#m9b2eaaf59b\" y=\"348.478125\"/>\r\n      </g>\r\n     </g>\r\n    </g>\r\n    <g id=\"xtick_70\">\r\n     <g id=\"line2d_70\">\r\n      <g>\r\n       <use style=\"stroke:#000000;stroke-width:0.6;\" x=\"729.653946\" xlink:href=\"#m9b2eaaf59b\" y=\"348.478125\"/>\r\n      </g>\r\n     </g>\r\n    </g>\r\n    <g id=\"xtick_71\">\r\n     <g id=\"line2d_71\">\r\n      <g>\r\n       <use style=\"stroke:#000000;stroke-width:0.6;\" x=\"739.378023\" xlink:href=\"#m9b2eaaf59b\" y=\"348.478125\"/>\r\n      </g>\r\n     </g>\r\n    </g>\r\n    <g id=\"xtick_72\">\r\n     <g id=\"line2d_72\">\r\n      <g>\r\n       <use style=\"stroke:#000000;stroke-width:0.6;\" x=\"749.426237\" xlink:href=\"#m9b2eaaf59b\" y=\"348.478125\"/>\r\n      </g>\r\n     </g>\r\n    </g>\r\n    <g id=\"xtick_73\">\r\n     <g id=\"line2d_73\">\r\n      <g>\r\n       <use style=\"stroke:#000000;stroke-width:0.6;\" x=\"759.474451\" xlink:href=\"#m9b2eaaf59b\" y=\"348.478125\"/>\r\n      </g>\r\n     </g>\r\n    </g>\r\n    <g id=\"xtick_74\">\r\n     <g id=\"line2d_74\">\r\n      <g>\r\n       <use style=\"stroke:#000000;stroke-width:0.6;\" x=\"769.198529\" xlink:href=\"#m9b2eaaf59b\" y=\"348.478125\"/>\r\n      </g>\r\n     </g>\r\n    </g>\r\n    <g id=\"xtick_75\">\r\n     <g id=\"line2d_75\">\r\n      <g>\r\n       <use style=\"stroke:#000000;stroke-width:0.6;\" x=\"779.246742\" xlink:href=\"#m9b2eaaf59b\" y=\"348.478125\"/>\r\n      </g>\r\n     </g>\r\n    </g>\r\n    <g id=\"xtick_76\">\r\n     <g id=\"line2d_76\">\r\n      <g>\r\n       <use style=\"stroke:#000000;stroke-width:0.6;\" x=\"788.97082\" xlink:href=\"#m9b2eaaf59b\" y=\"348.478125\"/>\r\n      </g>\r\n     </g>\r\n    </g>\r\n    <g id=\"xtick_77\">\r\n     <g id=\"line2d_77\">\r\n      <g>\r\n       <use style=\"stroke:#000000;stroke-width:0.6;\" x=\"809.067248\" xlink:href=\"#m9b2eaaf59b\" y=\"348.478125\"/>\r\n      </g>\r\n     </g>\r\n    </g>\r\n    <g id=\"xtick_78\">\r\n     <g id=\"line2d_78\">\r\n      <g>\r\n       <use style=\"stroke:#000000;stroke-width:0.6;\" x=\"818.143054\" xlink:href=\"#m9b2eaaf59b\" y=\"348.478125\"/>\r\n      </g>\r\n     </g>\r\n    </g>\r\n    <g id=\"xtick_79\">\r\n     <g id=\"line2d_79\">\r\n      <g>\r\n       <use style=\"stroke:#000000;stroke-width:0.6;\" x=\"828.191268\" xlink:href=\"#m9b2eaaf59b\" y=\"348.478125\"/>\r\n      </g>\r\n     </g>\r\n    </g>\r\n    <g id=\"text_8\">\r\n     <!-- Year -->\r\n     <defs>\r\n      <path d=\"M -0.203125 72.90625 \r\nL 10.40625 72.90625 \r\nL 30.609375 42.921875 \r\nL 50.6875 72.90625 \r\nL 61.28125 72.90625 \r\nL 35.5 34.71875 \r\nL 35.5 0 \r\nL 25.59375 0 \r\nL 25.59375 34.71875 \r\nz\r\n\" id=\"DejaVuSans-89\"/>\r\n      <path d=\"M 56.203125 29.59375 \r\nL 56.203125 25.203125 \r\nL 14.890625 25.203125 \r\nQ 15.484375 15.921875 20.484375 11.0625 \r\nQ 25.484375 6.203125 34.421875 6.203125 \r\nQ 39.59375 6.203125 44.453125 7.46875 \r\nQ 49.3125 8.734375 54.109375 11.28125 \r\nL 54.109375 2.78125 \r\nQ 49.265625 0.734375 44.1875 -0.34375 \r\nQ 39.109375 -1.421875 33.890625 -1.421875 \r\nQ 20.796875 -1.421875 13.15625 6.1875 \r\nQ 5.515625 13.8125 5.515625 26.8125 \r\nQ 5.515625 40.234375 12.765625 48.109375 \r\nQ 20.015625 56 32.328125 56 \r\nQ 43.359375 56 49.78125 48.890625 \r\nQ 56.203125 41.796875 56.203125 29.59375 \r\nz\r\nM 47.21875 32.234375 \r\nQ 47.125 39.59375 43.09375 43.984375 \r\nQ 39.0625 48.390625 32.421875 48.390625 \r\nQ 24.90625 48.390625 20.390625 44.140625 \r\nQ 15.875 39.890625 15.1875 32.171875 \r\nz\r\n\" id=\"DejaVuSans-101\"/>\r\n      <path d=\"M 34.28125 27.484375 \r\nQ 23.390625 27.484375 19.1875 25 \r\nQ 14.984375 22.515625 14.984375 16.5 \r\nQ 14.984375 11.71875 18.140625 8.90625 \r\nQ 21.296875 6.109375 26.703125 6.109375 \r\nQ 34.1875 6.109375 38.703125 11.40625 \r\nQ 43.21875 16.703125 43.21875 25.484375 \r\nL 43.21875 27.484375 \r\nz\r\nM 52.203125 31.203125 \r\nL 52.203125 0 \r\nL 43.21875 0 \r\nL 43.21875 8.296875 \r\nQ 40.140625 3.328125 35.546875 0.953125 \r\nQ 30.953125 -1.421875 24.3125 -1.421875 \r\nQ 15.921875 -1.421875 10.953125 3.296875 \r\nQ 6 8.015625 6 15.921875 \r\nQ 6 25.140625 12.171875 29.828125 \r\nQ 18.359375 34.515625 30.609375 34.515625 \r\nL 43.21875 34.515625 \r\nL 43.21875 35.40625 \r\nQ 43.21875 41.609375 39.140625 45 \r\nQ 35.0625 48.390625 27.6875 48.390625 \r\nQ 23 48.390625 18.546875 47.265625 \r\nQ 14.109375 46.140625 10.015625 43.890625 \r\nL 10.015625 52.203125 \r\nQ 14.9375 54.109375 19.578125 55.046875 \r\nQ 24.21875 56 28.609375 56 \r\nQ 40.484375 56 46.34375 49.84375 \r\nQ 52.203125 43.703125 52.203125 31.203125 \r\nz\r\n\" id=\"DejaVuSans-97\"/>\r\n      <path d=\"M 41.109375 46.296875 \r\nQ 39.59375 47.171875 37.8125 47.578125 \r\nQ 36.03125 48 33.890625 48 \r\nQ 26.265625 48 22.1875 43.046875 \r\nQ 18.109375 38.09375 18.109375 28.8125 \r\nL 18.109375 0 \r\nL 9.078125 0 \r\nL 9.078125 54.6875 \r\nL 18.109375 54.6875 \r\nL 18.109375 46.1875 \r\nQ 20.953125 51.171875 25.484375 53.578125 \r\nQ 30.03125 56 36.53125 56 \r\nQ 37.453125 56 38.578125 55.875 \r\nQ 39.703125 55.765625 41.0625 55.515625 \r\nz\r\n\" id=\"DejaVuSans-114\"/>\r\n     </defs>\r\n     <g transform=\"translate(433.340625 376.754687)scale(0.1 -0.1)\">\r\n      <use xlink:href=\"#DejaVuSans-89\"/>\r\n      <use x=\"47.833984\" xlink:href=\"#DejaVuSans-101\"/>\r\n      <use x=\"109.357422\" xlink:href=\"#DejaVuSans-97\"/>\r\n      <use x=\"170.636719\" xlink:href=\"#DejaVuSans-114\"/>\r\n     </g>\r\n    </g>\r\n   </g>\r\n   <g id=\"matplotlib.axis_2\">\r\n    <g id=\"ytick_1\">\r\n     <g id=\"line2d_80\">\r\n      <defs>\r\n       <path d=\"M 0 0 \r\nL -3.5 0 \r\n\" id=\"m38bbf58e04\" style=\"stroke:#000000;stroke-width:0.8;\"/>\r\n      </defs>\r\n      <g>\r\n       <use style=\"stroke:#000000;stroke-width:0.8;\" x=\"53.328125\" xlink:href=\"#m38bbf58e04\" y=\"313.902138\"/>\r\n      </g>\r\n     </g>\r\n     <g id=\"text_9\">\r\n      <!-- 3000 -->\r\n      <g transform=\"translate(20.878125 317.701357)scale(0.1 -0.1)\">\r\n       <use xlink:href=\"#DejaVuSans-51\"/>\r\n       <use x=\"63.623047\" xlink:href=\"#DejaVuSans-48\"/>\r\n       <use x=\"127.246094\" xlink:href=\"#DejaVuSans-48\"/>\r\n       <use x=\"190.869141\" xlink:href=\"#DejaVuSans-48\"/>\r\n      </g>\r\n     </g>\r\n    </g>\r\n    <g id=\"ytick_2\">\r\n     <g id=\"line2d_81\">\r\n      <g>\r\n       <use style=\"stroke:#000000;stroke-width:0.8;\" x=\"53.328125\" xlink:href=\"#m38bbf58e04\" y=\"244.852561\"/>\r\n      </g>\r\n     </g>\r\n     <g id=\"text_10\">\r\n      <!-- 4000 -->\r\n      <defs>\r\n       <path d=\"M 37.796875 64.3125 \r\nL 12.890625 25.390625 \r\nL 37.796875 25.390625 \r\nz\r\nM 35.203125 72.90625 \r\nL 47.609375 72.90625 \r\nL 47.609375 25.390625 \r\nL 58.015625 25.390625 \r\nL 58.015625 17.1875 \r\nL 47.609375 17.1875 \r\nL 47.609375 0 \r\nL 37.796875 0 \r\nL 37.796875 17.1875 \r\nL 4.890625 17.1875 \r\nL 4.890625 26.703125 \r\nz\r\n\" id=\"DejaVuSans-52\"/>\r\n      </defs>\r\n      <g transform=\"translate(20.878125 248.651779)scale(0.1 -0.1)\">\r\n       <use xlink:href=\"#DejaVuSans-52\"/>\r\n       <use x=\"63.623047\" xlink:href=\"#DejaVuSans-48\"/>\r\n       <use x=\"127.246094\" xlink:href=\"#DejaVuSans-48\"/>\r\n       <use x=\"190.869141\" xlink:href=\"#DejaVuSans-48\"/>\r\n      </g>\r\n     </g>\r\n    </g>\r\n    <g id=\"ytick_3\">\r\n     <g id=\"line2d_82\">\r\n      <g>\r\n       <use style=\"stroke:#000000;stroke-width:0.8;\" x=\"53.328125\" xlink:href=\"#m38bbf58e04\" y=\"175.802983\"/>\r\n      </g>\r\n     </g>\r\n     <g id=\"text_11\">\r\n      <!-- 5000 -->\r\n      <defs>\r\n       <path d=\"M 10.796875 72.90625 \r\nL 49.515625 72.90625 \r\nL 49.515625 64.59375 \r\nL 19.828125 64.59375 \r\nL 19.828125 46.734375 \r\nQ 21.96875 47.46875 24.109375 47.828125 \r\nQ 26.265625 48.1875 28.421875 48.1875 \r\nQ 40.625 48.1875 47.75 41.5 \r\nQ 54.890625 34.8125 54.890625 23.390625 \r\nQ 54.890625 11.625 47.5625 5.09375 \r\nQ 40.234375 -1.421875 26.90625 -1.421875 \r\nQ 22.3125 -1.421875 17.546875 -0.640625 \r\nQ 12.796875 0.140625 7.71875 1.703125 \r\nL 7.71875 11.625 \r\nQ 12.109375 9.234375 16.796875 8.0625 \r\nQ 21.484375 6.890625 26.703125 6.890625 \r\nQ 35.15625 6.890625 40.078125 11.328125 \r\nQ 45.015625 15.765625 45.015625 23.390625 \r\nQ 45.015625 31 40.078125 35.4375 \r\nQ 35.15625 39.890625 26.703125 39.890625 \r\nQ 22.75 39.890625 18.8125 39.015625 \r\nQ 14.890625 38.140625 10.796875 36.28125 \r\nz\r\n\" id=\"DejaVuSans-53\"/>\r\n      </defs>\r\n      <g transform=\"translate(20.878125 179.602202)scale(0.1 -0.1)\">\r\n       <use xlink:href=\"#DejaVuSans-53\"/>\r\n       <use x=\"63.623047\" xlink:href=\"#DejaVuSans-48\"/>\r\n       <use x=\"127.246094\" xlink:href=\"#DejaVuSans-48\"/>\r\n       <use x=\"190.869141\" xlink:href=\"#DejaVuSans-48\"/>\r\n      </g>\r\n     </g>\r\n    </g>\r\n    <g id=\"ytick_4\">\r\n     <g id=\"line2d_83\">\r\n      <g>\r\n       <use style=\"stroke:#000000;stroke-width:0.8;\" x=\"53.328125\" xlink:href=\"#m38bbf58e04\" y=\"106.753406\"/>\r\n      </g>\r\n     </g>\r\n     <g id=\"text_12\">\r\n      <!-- 6000 -->\r\n      <defs>\r\n       <path d=\"M 33.015625 40.375 \r\nQ 26.375 40.375 22.484375 35.828125 \r\nQ 18.609375 31.296875 18.609375 23.390625 \r\nQ 18.609375 15.53125 22.484375 10.953125 \r\nQ 26.375 6.390625 33.015625 6.390625 \r\nQ 39.65625 6.390625 43.53125 10.953125 \r\nQ 47.40625 15.53125 47.40625 23.390625 \r\nQ 47.40625 31.296875 43.53125 35.828125 \r\nQ 39.65625 40.375 33.015625 40.375 \r\nz\r\nM 52.59375 71.296875 \r\nL 52.59375 62.3125 \r\nQ 48.875 64.0625 45.09375 64.984375 \r\nQ 41.3125 65.921875 37.59375 65.921875 \r\nQ 27.828125 65.921875 22.671875 59.328125 \r\nQ 17.53125 52.734375 16.796875 39.40625 \r\nQ 19.671875 43.65625 24.015625 45.921875 \r\nQ 28.375 48.1875 33.59375 48.1875 \r\nQ 44.578125 48.1875 50.953125 41.515625 \r\nQ 57.328125 34.859375 57.328125 23.390625 \r\nQ 57.328125 12.15625 50.6875 5.359375 \r\nQ 44.046875 -1.421875 33.015625 -1.421875 \r\nQ 20.359375 -1.421875 13.671875 8.265625 \r\nQ 6.984375 17.96875 6.984375 36.375 \r\nQ 6.984375 53.65625 15.1875 63.9375 \r\nQ 23.390625 74.21875 37.203125 74.21875 \r\nQ 40.921875 74.21875 44.703125 73.484375 \r\nQ 48.484375 72.75 52.59375 71.296875 \r\nz\r\n\" id=\"DejaVuSans-54\"/>\r\n      </defs>\r\n      <g transform=\"translate(20.878125 110.552625)scale(0.1 -0.1)\">\r\n       <use xlink:href=\"#DejaVuSans-54\"/>\r\n       <use x=\"63.623047\" xlink:href=\"#DejaVuSans-48\"/>\r\n       <use x=\"127.246094\" xlink:href=\"#DejaVuSans-48\"/>\r\n       <use x=\"190.869141\" xlink:href=\"#DejaVuSans-48\"/>\r\n      </g>\r\n     </g>\r\n    </g>\r\n    <g id=\"ytick_5\">\r\n     <g id=\"line2d_84\">\r\n      <g>\r\n       <use style=\"stroke:#000000;stroke-width:0.8;\" x=\"53.328125\" xlink:href=\"#m38bbf58e04\" y=\"37.703829\"/>\r\n      </g>\r\n     </g>\r\n     <g id=\"text_13\">\r\n      <!-- 7000 -->\r\n      <g transform=\"translate(20.878125 41.503048)scale(0.1 -0.1)\">\r\n       <use xlink:href=\"#DejaVuSans-55\"/>\r\n       <use x=\"63.623047\" xlink:href=\"#DejaVuSans-48\"/>\r\n       <use x=\"127.246094\" xlink:href=\"#DejaVuSans-48\"/>\r\n       <use x=\"190.869141\" xlink:href=\"#DejaVuSans-48\"/>\r\n      </g>\r\n     </g>\r\n    </g>\r\n    <g id=\"text_14\">\r\n     <!-- Forecast Accurary -->\r\n     <defs>\r\n      <path d=\"M 9.8125 72.90625 \r\nL 51.703125 72.90625 \r\nL 51.703125 64.59375 \r\nL 19.671875 64.59375 \r\nL 19.671875 43.109375 \r\nL 48.578125 43.109375 \r\nL 48.578125 34.8125 \r\nL 19.671875 34.8125 \r\nL 19.671875 0 \r\nL 9.8125 0 \r\nz\r\n\" id=\"DejaVuSans-70\"/>\r\n      <path d=\"M 30.609375 48.390625 \r\nQ 23.390625 48.390625 19.1875 42.75 \r\nQ 14.984375 37.109375 14.984375 27.296875 \r\nQ 14.984375 17.484375 19.15625 11.84375 \r\nQ 23.34375 6.203125 30.609375 6.203125 \r\nQ 37.796875 6.203125 41.984375 11.859375 \r\nQ 46.1875 17.53125 46.1875 27.296875 \r\nQ 46.1875 37.015625 41.984375 42.703125 \r\nQ 37.796875 48.390625 30.609375 48.390625 \r\nz\r\nM 30.609375 56 \r\nQ 42.328125 56 49.015625 48.375 \r\nQ 55.71875 40.765625 55.71875 27.296875 \r\nQ 55.71875 13.875 49.015625 6.21875 \r\nQ 42.328125 -1.421875 30.609375 -1.421875 \r\nQ 18.84375 -1.421875 12.171875 6.21875 \r\nQ 5.515625 13.875 5.515625 27.296875 \r\nQ 5.515625 40.765625 12.171875 48.375 \r\nQ 18.84375 56 30.609375 56 \r\nz\r\n\" id=\"DejaVuSans-111\"/>\r\n      <path d=\"M 48.78125 52.59375 \r\nL 48.78125 44.1875 \r\nQ 44.96875 46.296875 41.140625 47.34375 \r\nQ 37.3125 48.390625 33.40625 48.390625 \r\nQ 24.65625 48.390625 19.8125 42.84375 \r\nQ 14.984375 37.3125 14.984375 27.296875 \r\nQ 14.984375 17.28125 19.8125 11.734375 \r\nQ 24.65625 6.203125 33.40625 6.203125 \r\nQ 37.3125 6.203125 41.140625 7.25 \r\nQ 44.96875 8.296875 48.78125 10.40625 \r\nL 48.78125 2.09375 \r\nQ 45.015625 0.34375 40.984375 -0.53125 \r\nQ 36.96875 -1.421875 32.421875 -1.421875 \r\nQ 20.0625 -1.421875 12.78125 6.34375 \r\nQ 5.515625 14.109375 5.515625 27.296875 \r\nQ 5.515625 40.671875 12.859375 48.328125 \r\nQ 20.21875 56 33.015625 56 \r\nQ 37.15625 56 41.109375 55.140625 \r\nQ 45.0625 54.296875 48.78125 52.59375 \r\nz\r\n\" id=\"DejaVuSans-99\"/>\r\n      <path d=\"M 44.28125 53.078125 \r\nL 44.28125 44.578125 \r\nQ 40.484375 46.53125 36.375 47.5 \r\nQ 32.28125 48.484375 27.875 48.484375 \r\nQ 21.1875 48.484375 17.84375 46.4375 \r\nQ 14.5 44.390625 14.5 40.28125 \r\nQ 14.5 37.15625 16.890625 35.375 \r\nQ 19.28125 33.59375 26.515625 31.984375 \r\nL 29.59375 31.296875 \r\nQ 39.15625 29.25 43.1875 25.515625 \r\nQ 47.21875 21.78125 47.21875 15.09375 \r\nQ 47.21875 7.46875 41.1875 3.015625 \r\nQ 35.15625 -1.421875 24.609375 -1.421875 \r\nQ 20.21875 -1.421875 15.453125 -0.5625 \r\nQ 10.6875 0.296875 5.421875 2 \r\nL 5.421875 11.28125 \r\nQ 10.40625 8.6875 15.234375 7.390625 \r\nQ 20.0625 6.109375 24.8125 6.109375 \r\nQ 31.15625 6.109375 34.5625 8.28125 \r\nQ 37.984375 10.453125 37.984375 14.40625 \r\nQ 37.984375 18.0625 35.515625 20.015625 \r\nQ 33.0625 21.96875 24.703125 23.78125 \r\nL 21.578125 24.515625 \r\nQ 13.234375 26.265625 9.515625 29.90625 \r\nQ 5.8125 33.546875 5.8125 39.890625 \r\nQ 5.8125 47.609375 11.28125 51.796875 \r\nQ 16.75 56 26.8125 56 \r\nQ 31.78125 56 36.171875 55.265625 \r\nQ 40.578125 54.546875 44.28125 53.078125 \r\nz\r\n\" id=\"DejaVuSans-115\"/>\r\n      <path d=\"M 18.3125 70.21875 \r\nL 18.3125 54.6875 \r\nL 36.8125 54.6875 \r\nL 36.8125 47.703125 \r\nL 18.3125 47.703125 \r\nL 18.3125 18.015625 \r\nQ 18.3125 11.328125 20.140625 9.421875 \r\nQ 21.96875 7.515625 27.59375 7.515625 \r\nL 36.8125 7.515625 \r\nL 36.8125 0 \r\nL 27.59375 0 \r\nQ 17.1875 0 13.234375 3.875 \r\nQ 9.28125 7.765625 9.28125 18.015625 \r\nL 9.28125 47.703125 \r\nL 2.6875 47.703125 \r\nL 2.6875 54.6875 \r\nL 9.28125 54.6875 \r\nL 9.28125 70.21875 \r\nz\r\n\" id=\"DejaVuSans-116\"/>\r\n      <path id=\"DejaVuSans-32\"/>\r\n      <path d=\"M 34.1875 63.1875 \r\nL 20.796875 26.90625 \r\nL 47.609375 26.90625 \r\nz\r\nM 28.609375 72.90625 \r\nL 39.796875 72.90625 \r\nL 67.578125 0 \r\nL 57.328125 0 \r\nL 50.6875 18.703125 \r\nL 17.828125 18.703125 \r\nL 11.1875 0 \r\nL 0.78125 0 \r\nz\r\n\" id=\"DejaVuSans-65\"/>\r\n      <path d=\"M 8.5 21.578125 \r\nL 8.5 54.6875 \r\nL 17.484375 54.6875 \r\nL 17.484375 21.921875 \r\nQ 17.484375 14.15625 20.5 10.265625 \r\nQ 23.53125 6.390625 29.59375 6.390625 \r\nQ 36.859375 6.390625 41.078125 11.03125 \r\nQ 45.3125 15.671875 45.3125 23.6875 \r\nL 45.3125 54.6875 \r\nL 54.296875 54.6875 \r\nL 54.296875 0 \r\nL 45.3125 0 \r\nL 45.3125 8.40625 \r\nQ 42.046875 3.421875 37.71875 1 \r\nQ 33.40625 -1.421875 27.6875 -1.421875 \r\nQ 18.265625 -1.421875 13.375 4.4375 \r\nQ 8.5 10.296875 8.5 21.578125 \r\nz\r\nM 31.109375 56 \r\nz\r\n\" id=\"DejaVuSans-117\"/>\r\n      <path d=\"M 32.171875 -5.078125 \r\nQ 28.375 -14.84375 24.75 -17.8125 \r\nQ 21.140625 -20.796875 15.09375 -20.796875 \r\nL 7.90625 -20.796875 \r\nL 7.90625 -13.28125 \r\nL 13.1875 -13.28125 \r\nQ 16.890625 -13.28125 18.9375 -11.515625 \r\nQ 21 -9.765625 23.484375 -3.21875 \r\nL 25.09375 0.875 \r\nL 2.984375 54.6875 \r\nL 12.5 54.6875 \r\nL 29.59375 11.921875 \r\nL 46.6875 54.6875 \r\nL 56.203125 54.6875 \r\nz\r\n\" id=\"DejaVuSans-121\"/>\r\n     </defs>\r\n     <g transform=\"translate(14.798438 230.273125)rotate(-90)scale(0.1 -0.1)\">\r\n      <use xlink:href=\"#DejaVuSans-70\"/>\r\n      <use x=\"53.894531\" xlink:href=\"#DejaVuSans-111\"/>\r\n      <use x=\"115.076172\" xlink:href=\"#DejaVuSans-114\"/>\r\n      <use x=\"153.939453\" xlink:href=\"#DejaVuSans-101\"/>\r\n      <use x=\"215.462891\" xlink:href=\"#DejaVuSans-99\"/>\r\n      <use x=\"270.443359\" xlink:href=\"#DejaVuSans-97\"/>\r\n      <use x=\"331.722656\" xlink:href=\"#DejaVuSans-115\"/>\r\n      <use x=\"383.822266\" xlink:href=\"#DejaVuSans-116\"/>\r\n      <use x=\"423.03125\" xlink:href=\"#DejaVuSans-32\"/>\r\n      <use x=\"454.818359\" xlink:href=\"#DejaVuSans-65\"/>\r\n      <use x=\"521.476562\" xlink:href=\"#DejaVuSans-99\"/>\r\n      <use x=\"576.457031\" xlink:href=\"#DejaVuSans-99\"/>\r\n      <use x=\"631.4375\" xlink:href=\"#DejaVuSans-117\"/>\r\n      <use x=\"694.816406\" xlink:href=\"#DejaVuSans-114\"/>\r\n      <use x=\"735.929688\" xlink:href=\"#DejaVuSans-97\"/>\r\n      <use x=\"797.208984\" xlink:href=\"#DejaVuSans-114\"/>\r\n      <use x=\"838.322266\" xlink:href=\"#DejaVuSans-121\"/>\r\n     </g>\r\n    </g>\r\n   </g>\r\n   <g id=\"line2d_85\">\r\n    <path clip-path=\"url(#p3ae9eee42a)\" d=\"M 88.837216 131.611254 \r\nL 98.88543 152.464226 \r\nL 107.961236 105.096216 \r\nL 118.009449 143.211583 \r\nL 127.733527 114.003612 \r\nL 137.781741 110.827331 \r\nL 147.505819 118.077537 \r\nL 157.554033 90.457706 \r\nL 167.602246 115.86795 \r\nL 177.326324 98.260308 \r\nL 187.374538 120.977619 \r\nL 197.098616 155.502408 \r\nL 207.14683 126.777784 \r\nL 217.195043 161.993068 \r\nL 226.270849 112.346422 \r\nL 236.319063 133.475593 \r\nL 246.043141 102.748531 \r\nL 256.091355 108.203447 \r\nL 265.815433 104.129522 \r\nL 275.863646 85.140889 \r\nL 285.91186 140.4496 \r\nL 295.635938 87.281426 \r\nL 305.684152 128.089726 \r\nL 315.40823 138.86146 \r\nL 325.456443 113.727414 \r\nL 335.504657 147.216459 \r\nL 344.580463 115.039356 \r\nL 354.628677 110.689232 \r\nL 364.352755 92.874441 \r\nL 374.400968 128.434974 \r\nL 384.125046 98.536507 \r\nL 394.17326 96.465019 \r\nL 404.221474 115.937 \r\nL 413.945552 79.893121 \r\nL 423.993765 128.434974 \r\nL 433.717843 121.460966 \r\nL 443.766057 109.515389 \r\nL 453.814271 132.30175 \r\nL 463.214213 158.057242 \r\nL 473.262426 249.82413 \r\nL 482.986504 199.417939 \r\nL 493.034718 128.296874 \r\nL 502.758796 127.675428 \r\nL 512.80701 106.684357 \r\nL 522.855223 97.017416 \r\nL 532.579301 102.127085 \r\nL 542.627515 143.211583 \r\nL 552.351593 151.152284 \r\nL 562.399807 221.720952 \r\n\" style=\"fill:none;stroke:#1f77b4;stroke-linecap:square;stroke-width:1.5;\"/>\r\n   </g>\r\n   <g id=\"line2d_86\">\r\n    <path clip-path=\"url(#p3ae9eee42a)\" d=\"M 88.837216 131.611254 \r\nL 98.88543 152.464226 \r\nL 107.961236 105.096216 \r\nL 118.009449 143.211583 \r\nL 127.733527 114.003612 \r\nL 137.781741 110.827331 \r\nL 147.505819 118.077537 \r\nL 157.554033 90.457706 \r\nL 167.602246 115.86795 \r\nL 177.326324 98.260308 \r\nL 187.374538 120.977619 \r\nL 197.098616 155.502408 \r\nL 207.14683 126.777784 \r\nL 217.195043 161.993068 \r\nL 226.270849 112.346422 \r\nL 236.319063 133.475593 \r\nL 246.043141 102.748531 \r\nL 256.091355 108.203447 \r\nL 265.815433 104.129522 \r\nL 275.863646 85.140889 \r\nL 285.91186 140.4496 \r\nL 295.635938 87.281426 \r\nL 305.684152 128.089726 \r\nL 315.40823 138.86146 \r\nL 325.456443 113.727414 \r\nL 335.504657 147.216459 \r\nL 344.580463 115.039356 \r\nL 354.628677 110.689232 \r\nL 364.352755 92.874441 \r\nL 374.400968 128.434974 \r\nL 384.125046 98.536507 \r\nL 394.17326 96.465019 \r\nL 404.221474 115.937 \r\nL 413.945552 79.893121 \r\nL 423.993765 128.434974 \r\nL 433.717843 121.460966 \r\nL 443.766057 109.515389 \r\nL 453.814271 132.30175 \r\nL 463.214213 158.057242 \r\nL 473.262426 120.532991 \r\nL 482.986504 121.714807 \r\nL 493.034718 128.296874 \r\nL 502.758796 127.675428 \r\nL 512.80701 106.684357 \r\nL 522.855223 97.017416 \r\nL 532.579301 102.127085 \r\nL 542.627515 143.211583 \r\nL 552.351593 151.152284 \r\nL 562.399807 131.51861 \r\n\" style=\"fill:none;stroke:#008000;stroke-linecap:square;stroke-width:1.5;\"/>\r\n   </g>\r\n   <g id=\"line2d_87\">\r\n    <path clip-path=\"url(#p3ae9eee42a)\" d=\"M 572.44802 216.50878 \r\nL 581.523826 199.971512 \r\nL 591.57204 291.7384 \r\nL 601.296118 241.332209 \r\nL 611.344332 170.211145 \r\nL 621.06841 169.589698 \r\nL 631.116623 148.598627 \r\nL 641.164837 138.931686 \r\nL 650.888915 144.041355 \r\nL 660.937129 185.125853 \r\nL 670.661207 193.066555 \r\nL 680.70942 263.635222 \r\nL 690.757634 258.42305 \r\nL 699.83344 241.885782 \r\nL 709.881654 333.65267 \r\nL 719.605732 283.246479 \r\nL 729.653946 212.125415 \r\nL 739.378023 211.503968 \r\nL 749.426237 190.512897 \r\nL 759.474451 180.845956 \r\nL 769.198529 185.955625 \r\nL 779.246742 227.040123 \r\nL 788.97082 234.980825 \r\nL 799.019034 305.549493 \r\n\" style=\"fill:none;stroke:#0000ff;stroke-dasharray:5.55,2.4;stroke-dashoffset:0;stroke-opacity:0.75;stroke-width:1.5;\"/>\r\n   </g>\r\n   <g id=\"line2d_88\">\r\n    <path clip-path=\"url(#p3ae9eee42a)\" d=\"M 572.44802 146.983209 \r\nL 581.523826 172.738701 \r\nL 591.57204 135.214449 \r\nL 601.296118 136.396266 \r\nL 611.344332 142.978333 \r\nL 621.06841 142.356887 \r\nL 631.116623 121.365815 \r\nL 641.164837 111.698875 \r\nL 650.888915 116.808543 \r\nL 660.937129 157.893042 \r\nL 670.661207 165.833743 \r\nL 680.70942 146.200069 \r\nL 690.757634 161.664667 \r\nL 699.83344 187.420159 \r\nL 709.881654 149.895908 \r\nL 719.605732 151.077725 \r\nL 729.653946 157.659792 \r\nL 739.378023 157.038346 \r\nL 749.426237 136.047274 \r\nL 759.474451 126.380333 \r\nL 769.198529 131.490002 \r\nL 779.246742 172.5745 \r\nL 788.97082 180.515202 \r\nL 799.019034 160.881527 \r\n\" style=\"fill:none;stroke:#008000;stroke-dasharray:5.55,2.4;stroke-dashoffset:0;stroke-opacity:0.75;stroke-width:1.5;\"/>\r\n   </g>\r\n   <g id=\"patch_3\">\r\n    <path d=\"M 53.328125 348.478125 \r\nL 53.328125 22.318125 \r\n\" style=\"fill:none;stroke:#000000;stroke-linecap:square;stroke-linejoin:miter;stroke-width:0.8;\"/>\r\n   </g>\r\n   <g id=\"patch_4\">\r\n    <path d=\"M 834.528125 348.478125 \r\nL 834.528125 22.318125 \r\n\" style=\"fill:none;stroke:#000000;stroke-linecap:square;stroke-linejoin:miter;stroke-width:0.8;\"/>\r\n   </g>\r\n   <g id=\"patch_5\">\r\n    <path d=\"M 53.328125 348.478125 \r\nL 834.528125 348.478125 \r\n\" style=\"fill:none;stroke:#000000;stroke-linecap:square;stroke-linejoin:miter;stroke-width:0.8;\"/>\r\n   </g>\r\n   <g id=\"patch_6\">\r\n    <path d=\"M 53.328125 22.318125 \r\nL 834.528125 22.318125 \r\n\" style=\"fill:none;stroke:#000000;stroke-linecap:square;stroke-linejoin:miter;stroke-width:0.8;\"/>\r\n   </g>\r\n   <g id=\"text_15\">\r\n    <!-- Forecast Model -->\r\n    <defs>\r\n     <path d=\"M 9.8125 72.90625 \r\nL 24.515625 72.90625 \r\nL 43.109375 23.296875 \r\nL 61.8125 72.90625 \r\nL 76.515625 72.90625 \r\nL 76.515625 0 \r\nL 66.890625 0 \r\nL 66.890625 64.015625 \r\nL 48.09375 14.015625 \r\nL 38.1875 14.015625 \r\nL 19.390625 64.015625 \r\nL 19.390625 0 \r\nL 9.8125 0 \r\nz\r\n\" id=\"DejaVuSans-77\"/>\r\n     <path d=\"M 45.40625 46.390625 \r\nL 45.40625 75.984375 \r\nL 54.390625 75.984375 \r\nL 54.390625 0 \r\nL 45.40625 0 \r\nL 45.40625 8.203125 \r\nQ 42.578125 3.328125 38.25 0.953125 \r\nQ 33.9375 -1.421875 27.875 -1.421875 \r\nQ 17.96875 -1.421875 11.734375 6.484375 \r\nQ 5.515625 14.40625 5.515625 27.296875 \r\nQ 5.515625 40.1875 11.734375 48.09375 \r\nQ 17.96875 56 27.875 56 \r\nQ 33.9375 56 38.25 53.625 \r\nQ 42.578125 51.265625 45.40625 46.390625 \r\nz\r\nM 14.796875 27.296875 \r\nQ 14.796875 17.390625 18.875 11.75 \r\nQ 22.953125 6.109375 30.078125 6.109375 \r\nQ 37.203125 6.109375 41.296875 11.75 \r\nQ 45.40625 17.390625 45.40625 27.296875 \r\nQ 45.40625 37.203125 41.296875 42.84375 \r\nQ 37.203125 48.484375 30.078125 48.484375 \r\nQ 22.953125 48.484375 18.875 42.84375 \r\nQ 14.796875 37.203125 14.796875 27.296875 \r\nz\r\n\" id=\"DejaVuSans-100\"/>\r\n     <path d=\"M 9.421875 75.984375 \r\nL 18.40625 75.984375 \r\nL 18.40625 0 \r\nL 9.421875 0 \r\nz\r\n\" id=\"DejaVuSans-108\"/>\r\n    </defs>\r\n    <g transform=\"translate(398.623438 16.318125)scale(0.12 -0.12)\">\r\n     <use xlink:href=\"#DejaVuSans-70\"/>\r\n     <use x=\"53.894531\" xlink:href=\"#DejaVuSans-111\"/>\r\n     <use x=\"115.076172\" xlink:href=\"#DejaVuSans-114\"/>\r\n     <use x=\"153.939453\" xlink:href=\"#DejaVuSans-101\"/>\r\n     <use x=\"215.462891\" xlink:href=\"#DejaVuSans-99\"/>\r\n     <use x=\"270.443359\" xlink:href=\"#DejaVuSans-97\"/>\r\n     <use x=\"331.722656\" xlink:href=\"#DejaVuSans-115\"/>\r\n     <use x=\"383.822266\" xlink:href=\"#DejaVuSans-116\"/>\r\n     <use x=\"423.03125\" xlink:href=\"#DejaVuSans-32\"/>\r\n     <use x=\"454.818359\" xlink:href=\"#DejaVuSans-77\"/>\r\n     <use x=\"541.097656\" xlink:href=\"#DejaVuSans-111\"/>\r\n     <use x=\"602.279297\" xlink:href=\"#DejaVuSans-100\"/>\r\n     <use x=\"665.755859\" xlink:href=\"#DejaVuSans-101\"/>\r\n     <use x=\"727.279297\" xlink:href=\"#DejaVuSans-108\"/>\r\n    </g>\r\n   </g>\r\n   <g id=\"legend_1\">\r\n    <g id=\"patch_7\">\r\n     <path d=\"M 671.779688 89.030625 \r\nL 827.528125 89.030625 \r\nQ 829.528125 89.030625 829.528125 87.030625 \r\nL 829.528125 29.318125 \r\nQ 829.528125 27.318125 827.528125 27.318125 \r\nL 671.779688 27.318125 \r\nQ 669.779688 27.318125 669.779688 29.318125 \r\nL 669.779688 87.030625 \r\nQ 669.779688 89.030625 671.779688 89.030625 \r\nz\r\n\" style=\"fill:#ffffff;opacity:0.8;stroke:#cccccc;stroke-linejoin:miter;\"/>\r\n    </g>\r\n    <g id=\"line2d_89\">\r\n     <path d=\"M 673.779688 35.416562 \r\nL 693.779688 35.416562 \r\n\" style=\"fill:none;stroke:#1f77b4;stroke-linecap:square;stroke-width:1.5;\"/>\r\n    </g>\r\n    <g id=\"line2d_90\"/>\r\n    <g id=\"text_16\">\r\n     <!-- Actual -->\r\n     <g transform=\"translate(701.779688 38.916562)scale(0.1 -0.1)\">\r\n      <use xlink:href=\"#DejaVuSans-65\"/>\r\n      <use x=\"66.658203\" xlink:href=\"#DejaVuSans-99\"/>\r\n      <use x=\"121.638672\" xlink:href=\"#DejaVuSans-116\"/>\r\n      <use x=\"160.847656\" xlink:href=\"#DejaVuSans-117\"/>\r\n      <use x=\"224.226562\" xlink:href=\"#DejaVuSans-97\"/>\r\n      <use x=\"285.505859\" xlink:href=\"#DejaVuSans-108\"/>\r\n     </g>\r\n    </g>\r\n    <g id=\"line2d_91\">\r\n     <path d=\"M 673.779688 50.094687 \r\nL 693.779688 50.094687 \r\n\" style=\"fill:none;stroke:#008000;stroke-linecap:square;stroke-width:1.5;\"/>\r\n    </g>\r\n    <g id=\"line2d_92\"/>\r\n    <g id=\"text_17\">\r\n     <!-- Adjusted Actual -->\r\n     <defs>\r\n      <path d=\"M 9.421875 54.6875 \r\nL 18.40625 54.6875 \r\nL 18.40625 -0.984375 \r\nQ 18.40625 -11.421875 14.421875 -16.109375 \r\nQ 10.453125 -20.796875 1.609375 -20.796875 \r\nL -1.8125 -20.796875 \r\nL -1.8125 -13.1875 \r\nL 0.59375 -13.1875 \r\nQ 5.71875 -13.1875 7.5625 -10.8125 \r\nQ 9.421875 -8.453125 9.421875 -0.984375 \r\nz\r\nM 9.421875 75.984375 \r\nL 18.40625 75.984375 \r\nL 18.40625 64.59375 \r\nL 9.421875 64.59375 \r\nz\r\n\" id=\"DejaVuSans-106\"/>\r\n     </defs>\r\n     <g transform=\"translate(701.779688 53.594687)scale(0.1 -0.1)\">\r\n      <use xlink:href=\"#DejaVuSans-65\"/>\r\n      <use x=\"66.658203\" xlink:href=\"#DejaVuSans-100\"/>\r\n      <use x=\"130.134766\" xlink:href=\"#DejaVuSans-106\"/>\r\n      <use x=\"157.917969\" xlink:href=\"#DejaVuSans-117\"/>\r\n      <use x=\"221.296875\" xlink:href=\"#DejaVuSans-115\"/>\r\n      <use x=\"273.396484\" xlink:href=\"#DejaVuSans-116\"/>\r\n      <use x=\"312.605469\" xlink:href=\"#DejaVuSans-101\"/>\r\n      <use x=\"374.128906\" xlink:href=\"#DejaVuSans-100\"/>\r\n      <use x=\"437.605469\" xlink:href=\"#DejaVuSans-32\"/>\r\n      <use x=\"469.392578\" xlink:href=\"#DejaVuSans-65\"/>\r\n      <use x=\"536.050781\" xlink:href=\"#DejaVuSans-99\"/>\r\n      <use x=\"591.03125\" xlink:href=\"#DejaVuSans-116\"/>\r\n      <use x=\"630.240234\" xlink:href=\"#DejaVuSans-117\"/>\r\n      <use x=\"693.619141\" xlink:href=\"#DejaVuSans-97\"/>\r\n      <use x=\"754.898438\" xlink:href=\"#DejaVuSans-108\"/>\r\n     </g>\r\n    </g>\r\n    <g id=\"line2d_93\">\r\n     <path d=\"M 673.779688 64.772812 \r\nL 693.779688 64.772812 \r\n\" style=\"fill:none;stroke:#0000ff;stroke-dasharray:5.55,2.4;stroke-dashoffset:0;stroke-opacity:0.75;stroke-width:1.5;\"/>\r\n    </g>\r\n    <g id=\"line2d_94\"/>\r\n    <g id=\"text_18\">\r\n     <!-- Actual Forecast -->\r\n     <g transform=\"translate(701.779688 68.272812)scale(0.1 -0.1)\">\r\n      <use xlink:href=\"#DejaVuSans-65\"/>\r\n      <use x=\"66.658203\" xlink:href=\"#DejaVuSans-99\"/>\r\n      <use x=\"121.638672\" xlink:href=\"#DejaVuSans-116\"/>\r\n      <use x=\"160.847656\" xlink:href=\"#DejaVuSans-117\"/>\r\n      <use x=\"224.226562\" xlink:href=\"#DejaVuSans-97\"/>\r\n      <use x=\"285.505859\" xlink:href=\"#DejaVuSans-108\"/>\r\n      <use x=\"313.289062\" xlink:href=\"#DejaVuSans-32\"/>\r\n      <use x=\"345.076172\" xlink:href=\"#DejaVuSans-70\"/>\r\n      <use x=\"398.970703\" xlink:href=\"#DejaVuSans-111\"/>\r\n      <use x=\"460.152344\" xlink:href=\"#DejaVuSans-114\"/>\r\n      <use x=\"499.015625\" xlink:href=\"#DejaVuSans-101\"/>\r\n      <use x=\"560.539062\" xlink:href=\"#DejaVuSans-99\"/>\r\n      <use x=\"615.519531\" xlink:href=\"#DejaVuSans-97\"/>\r\n      <use x=\"676.798828\" xlink:href=\"#DejaVuSans-115\"/>\r\n      <use x=\"728.898438\" xlink:href=\"#DejaVuSans-116\"/>\r\n     </g>\r\n    </g>\r\n    <g id=\"line2d_95\">\r\n     <path d=\"M 673.779688 79.450937 \r\nL 693.779688 79.450937 \r\n\" style=\"fill:none;stroke:#008000;stroke-dasharray:5.55,2.4;stroke-dashoffset:0;stroke-opacity:0.75;stroke-width:1.5;\"/>\r\n    </g>\r\n    <g id=\"line2d_96\"/>\r\n    <g id=\"text_19\">\r\n     <!-- Adjusted Actual Forecast -->\r\n     <g transform=\"translate(701.779688 82.950937)scale(0.1 -0.1)\">\r\n      <use xlink:href=\"#DejaVuSans-65\"/>\r\n      <use x=\"66.658203\" xlink:href=\"#DejaVuSans-100\"/>\r\n      <use x=\"130.134766\" xlink:href=\"#DejaVuSans-106\"/>\r\n      <use x=\"157.917969\" xlink:href=\"#DejaVuSans-117\"/>\r\n      <use x=\"221.296875\" xlink:href=\"#DejaVuSans-115\"/>\r\n      <use x=\"273.396484\" xlink:href=\"#DejaVuSans-116\"/>\r\n      <use x=\"312.605469\" xlink:href=\"#DejaVuSans-101\"/>\r\n      <use x=\"374.128906\" xlink:href=\"#DejaVuSans-100\"/>\r\n      <use x=\"437.605469\" xlink:href=\"#DejaVuSans-32\"/>\r\n      <use x=\"469.392578\" xlink:href=\"#DejaVuSans-65\"/>\r\n      <use x=\"536.050781\" xlink:href=\"#DejaVuSans-99\"/>\r\n      <use x=\"591.03125\" xlink:href=\"#DejaVuSans-116\"/>\r\n      <use x=\"630.240234\" xlink:href=\"#DejaVuSans-117\"/>\r\n      <use x=\"693.619141\" xlink:href=\"#DejaVuSans-97\"/>\r\n      <use x=\"754.898438\" xlink:href=\"#DejaVuSans-108\"/>\r\n      <use x=\"782.681641\" xlink:href=\"#DejaVuSans-32\"/>\r\n      <use x=\"814.46875\" xlink:href=\"#DejaVuSans-70\"/>\r\n      <use x=\"868.363281\" xlink:href=\"#DejaVuSans-111\"/>\r\n      <use x=\"929.544922\" xlink:href=\"#DejaVuSans-114\"/>\r\n      <use x=\"968.408203\" xlink:href=\"#DejaVuSans-101\"/>\r\n      <use x=\"1029.931641\" xlink:href=\"#DejaVuSans-99\"/>\r\n      <use x=\"1084.912109\" xlink:href=\"#DejaVuSans-97\"/>\r\n      <use x=\"1146.191406\" xlink:href=\"#DejaVuSans-115\"/>\r\n      <use x=\"1198.291016\" xlink:href=\"#DejaVuSans-116\"/>\r\n     </g>\r\n    </g>\r\n   </g>\r\n  </g>\r\n </g>\r\n <defs>\r\n  <clipPath id=\"p3ae9eee42a\">\r\n   <rect height=\"326.16\" width=\"781.2\" x=\"53.328125\" y=\"22.318125\"/>\r\n  </clipPath>\r\n </defs>\r\n</svg>\r\n",
      "image/png": "[encoded data removed]"
     },
     "metadata": {
      "needs_background": "light"
     }
    }
   ],
   "source": [
    "tsfm.plot(\"ACUTE\")"
   ]
  },
  {
   "cell_type": "code",
   "execution_count": 55,
   "metadata": {},
   "outputs": [
    {
     "output_type": "stream",
     "name": "stdout",
     "text": [
      "train_index = [ 0  1  2  3  4  5  6  7  8  9 10 11 12 13 14 15 16 17 18 19 20 21 22 23\n 24]\ntest_index = [25 26 27 28]\ntrain = [11260. 10906. 12657. 11245. 12505. 13015. 12051. 13442. 12377. 12783.\n 12226. 11993. 11990. 10944. 12720. 12085. 13223. 13027. 13266. 14358.\n 12463. 14154. 12756. 11957. 12493.]\ntest = [11554. 12903. 12931. 13587.]\nMAE = 217.79166666666697\nMAPE = 0.017085450471026335\n--------------------------------------------------\ntrain_index = [ 0  1  2  3  4  5  6  7  8  9 10 11 12 13 14 15 16 17 18 19 20 21 22 23\n 24 25 26 27 28]\ntest_index = [29 30 31 32]\ntrain = [11260. 10906. 12657. 11245. 12505. 13015. 12051. 13442. 12377. 12783.\n 12226. 11993. 11990. 10944. 12720. 12085. 13223. 13027. 13266. 14358.\n 12463. 14154. 12756. 11957. 12493. 11554. 12903. 12931. 13587.]\ntest = [12418. 13355. 13787. 12452.]\nMAE = 582.3125\nMAPE = 0.044821298696230555\n--------------------------------------------------\ntrain_index = [ 0  1  2  3  4  5  6  7  8  9 10 11 12 13 14 15 16 17 18 19 20 21 22 23\n 24 25 26 27 28 29 30 31 32]\ntest_index = [33 34 35 36]\ntrain = [11260. 10906. 12657. 11245. 12505. 13015. 12051. 13442. 12377. 12783.\n 12226. 11993. 11990. 10944. 12720. 12085. 13223. 13027. 13266. 14358.\n 12463. 14154. 12756. 11957. 12493. 11554. 12903. 12931. 13587. 12418.\n 13355. 13787. 12452.]\ntest = [14285. 12524. 12513. 12997.]\nMAE = 416.82499999999845\nMAPE = 0.03237160068944015\n--------------------------------------------------\ntrain_index = [ 0  1  2  3  4  5  6  7  8  9 10 11 12 13 14 15 16 17 18 19 20 21 22 23\n 24 25 26 27 28 29 30 31 32 33 34 35 36]\ntest_index = [37 38 39 40]\ntrain = [11260. 10906. 12657. 11245. 12505. 13015. 12051. 13442. 12377. 12783.\n 12226. 11993. 11990. 10944. 12720. 12085. 13223. 13027. 13266. 14358.\n 12463. 14154. 12756. 11957. 12493. 11554. 12903. 12931. 13587. 12418.\n 13355. 13787. 12452. 14285. 12524. 12513. 12997.]\ntest = [11965. 12655. 10643. 10875.]\nMAE = 1689.7083333333353\nMAPE = 0.15421471287984695\n--------------------------------------------------\ntrain_index = [ 0  1  2  3  4  5  6  7  8  9 10 11 12 13 14 15 16 17 18 19 20 21 22 23\n 24 25 26 27 28 29 30 31 32 33 34 35 36 37 38 39 40]\ntest_index = [41 42 43 44]\ntrain = [11260. 10906. 12657. 11245. 12505. 13015. 12051. 13442. 12377. 12783.\n 12226. 11993. 11990. 10944. 12720. 12085. 13223. 13027. 13266. 14358.\n 12463. 14154. 12756. 11957. 12493. 11554. 12903. 12931. 13587. 12418.\n 13355. 13787. 12452. 14285. 12524. 12513. 12997. 11965. 12655. 10643.\n 10875.]\ntest = [12530. 14009. 13518. 13804.]\nMAE = 3481.571428571431\nMAPE = 0.2577613827472626\n--------------------------------------------------\ntrain_index = [ 0  1  2  3  4  5  6  7  8  9 10 11 12 13 14 15 16 17 18 19 20 21 22 23\n 24 25 26 27 28 29 30 31 32 33 34 35 36 37 38 39 40 41 42 43 44]\ntest_index = [45 46 47 48]\ntrain = [11260. 10906. 12657. 11245. 12505. 13015. 12051. 13442. 12377. 12783.\n 12226. 11993. 11990. 10944. 12720. 12085. 13223. 13027. 13266. 14358.\n 12463. 14154. 12756. 11957. 12493. 11554. 12903. 12931. 13587. 12418.\n 13355. 13787. 12452. 14285. 12524. 12513. 12997. 11965. 12655. 10643.\n 10875. 12530. 14009. 13518. 13804.]\ntest = [14414. 12468. 12878. 10204.]\nMAE = 1989.34375\nMAPE = 0.1743117194495699\n--------------------------------------------------\nMAE = [217.79166666666697, 582.3125, 416.82499999999845, 1689.7083333333353, 3481.571428571431, 1989.34375]\nMAPE = [0.017085450471026335, 0.044821298696230555, 0.03237160068944015, 0.15421471287984695, 0.2577613827472626, 0.1743117194495699]\nAverage MAE = 1396.2587797619053\nAverage MAPE = 0.11342769415556275\n"
     ]
    }
   ],
   "source": [
    "tsfm.cross_validate(\"HOME\", False)"
   ]
  },
  {
   "cell_type": "code",
   "execution_count": 56,
   "metadata": {},
   "outputs": [
    {
     "output_type": "stream",
     "name": "stdout",
     "text": [
      "Performing stepwise search to minimize aic\n",
      " ARIMA(0,1,0)(0,1,0)[12]             : AIC=412.762, Time=0.01 sec\n",
      " ARIMA(1,1,0)(1,1,0)[12]             : AIC=415.533, Time=0.16 sec\n",
      " ARIMA(0,1,1)(0,1,1)[12]             : AIC=414.340, Time=0.16 sec\n",
      " ARIMA(0,1,0)(1,1,0)[12]             : AIC=414.748, Time=0.11 sec\n",
      " ARIMA(0,1,0)(0,1,1)[12]             : AIC=414.762, Time=0.04 sec\n",
      " ARIMA(0,1,0)(1,1,1)[12]             : AIC=416.718, Time=0.26 sec\n",
      " ARIMA(1,1,0)(0,1,0)[12]             : AIC=413.543, Time=0.03 sec\n",
      " ARIMA(0,1,1)(0,1,0)[12]             : AIC=412.348, Time=0.06 sec\n",
      " ARIMA(0,1,1)(1,1,0)[12]             : AIC=414.340, Time=0.18 sec\n",
      " ARIMA(0,1,1)(1,1,1)[12]             : AIC=inf, Time=0.30 sec\n",
      " ARIMA(1,1,1)(0,1,0)[12]             : AIC=413.196, Time=0.07 sec\n",
      " ARIMA(0,1,2)(0,1,0)[12]             : AIC=412.036, Time=0.09 sec\n",
      " ARIMA(0,1,2)(1,1,0)[12]             : AIC=413.947, Time=0.22 sec\n",
      " ARIMA(0,1,2)(0,1,1)[12]             : AIC=413.947, Time=0.19 sec\n",
      " ARIMA(0,1,2)(1,1,1)[12]             : AIC=inf, Time=0.59 sec\n",
      " ARIMA(1,1,2)(0,1,0)[12]             : AIC=410.570, Time=0.17 sec\n",
      " ARIMA(1,1,2)(1,1,0)[12]             : AIC=412.548, Time=0.37 sec\n",
      " ARIMA(1,1,2)(0,1,1)[12]             : AIC=412.548, Time=0.26 sec\n",
      " ARIMA(1,1,2)(1,1,1)[12]             : AIC=inf, Time=0.39 sec\n",
      " ARIMA(2,1,2)(0,1,0)[12]             : AIC=412.298, Time=0.11 sec\n",
      " ARIMA(2,1,1)(0,1,0)[12]             : AIC=410.610, Time=0.14 sec\n",
      " ARIMA(1,1,2)(0,1,0)[12] intercept   : AIC=inf, Time=0.22 sec\n",
      "\n",
      "Best model:  ARIMA(1,1,2)(0,1,0)[12]          \n",
      "Total fit time: 4.161 seconds\n",
      "train_index = [ 0  1  2  3  4  5  6  7  8  9 10 11 12 13 14 15 16 17 18 19 20 21 22 23\n",
      " 24]\n",
      "test_index = [25 26 27 28]\n",
      "train = [11260. 10906. 12657. 11245. 12505. 13015. 12051. 13442. 12377. 12783.\n",
      " 12226. 11993. 11990. 10944. 12720. 12085. 13223. 13027. 13266. 14358.\n",
      " 12463. 14154. 12756. 11957. 12493.]\n",
      "test = [11554. 12903. 12931. 13587.]\n",
      "MAE = 243.15926707739754\n",
      "MAPE = 0.01918923162288005\n",
      "--------------------------------------------------\n",
      "train_index = [ 0  1  2  3  4  5  6  7  8  9 10 11 12 13 14 15 16 17 18 19 20 21 22 23\n",
      " 24 25 26 27 28]\n",
      "test_index = [29 30 31 32]\n",
      "train = [11260. 10906. 12657. 11245. 12505. 13015. 12051. 13442. 12377. 12783.\n",
      " 12226. 11993. 11990. 10944. 12720. 12085. 13223. 13027. 13266. 14358.\n",
      " 12463. 14154. 12756. 11957. 12493. 11554. 12903. 12931. 13587.]\n",
      "test = [12418. 13355. 13787. 12452.]\n",
      "MAE = 582.6387274773388\n",
      "MAPE = 0.04485564703396449\n",
      "--------------------------------------------------\n",
      "train_index = [ 0  1  2  3  4  5  6  7  8  9 10 11 12 13 14 15 16 17 18 19 20 21 22 23\n",
      " 24 25 26 27 28 29 30 31 32]\n",
      "test_index = [33 34 35 36]\n",
      "train = [11260. 10906. 12657. 11245. 12505. 13015. 12051. 13442. 12377. 12783.\n",
      " 12226. 11993. 11990. 10944. 12720. 12085. 13223. 13027. 13266. 14358.\n",
      " 12463. 14154. 12756. 11957. 12493. 11554. 12903. 12931. 13587. 12418.\n",
      " 13355. 13787. 12452.]\n",
      "test = [14285. 12524. 12513. 12997.]\n",
      "MAE = 626.0328473203185\n",
      "MAPE = 0.048274373316227664\n",
      "--------------------------------------------------\n",
      "train_index = [ 0  1  2  3  4  5  6  7  8  9 10 11 12 13 14 15 16 17 18 19 20 21 22 23\n",
      " 24 25 26 27 28 29 30 31 32 33 34 35 36]\n",
      "test_index = [37 38 39 40]\n",
      "train = [11260. 10906. 12657. 11245. 12505. 13015. 12051. 13442. 12377. 12783.\n",
      " 12226. 11993. 11990. 10944. 12720. 12085. 13223. 13027. 13266. 14358.\n",
      " 12463. 14154. 12756. 11957. 12493. 11554. 12903. 12931. 13587. 12418.\n",
      " 13355. 13787. 12452. 14285. 12524. 12513. 12997.]\n",
      "test = [11965.         12655.         12797.5565081  13779.22822975]\n",
      "MAE = 268.1495778184035\n",
      "MAPE = 0.021089516183804037\n",
      "--------------------------------------------------\n",
      "train_index = [ 0  1  2  3  4  5  6  7  8  9 10 11 12 13 14 15 16 17 18 19 20 21 22 23\n",
      " 24 25 26 27 28 29 30 31 32 33 34 35 36 37 38 39 40]\n",
      "test_index = [41 42 43 44]\n",
      "train = [11260.         10906.         12657.         11245.\n",
      " 12505.         13015.         12051.         13442.\n",
      " 12377.         12783.         12226.         11993.\n",
      " 11990.         10944.         12720.         12085.\n",
      " 13223.         13027.         13266.         14358.\n",
      " 12463.         14154.         12756.         11957.\n",
      " 12493.         11554.         12903.         12931.\n",
      " 13587.         12418.         13355.         13787.\n",
      " 12452.         14285.         12524.         12513.\n",
      " 12997.         11965.         12655.         12797.5565081\n",
      " 13779.22822975]\n",
      "test = [12530.         14009.         13518.         12541.53233556]\n",
      "MAE = 365.64942004582736\n",
      "MAPE = 0.027345092072958002\n",
      "--------------------------------------------------\n",
      "train_index = [ 0  1  2  3  4  5  6  7  8  9 10 11 12 13 14 15 16 17 18 19 20 21 22 23\n",
      " 24 25 26 27 28 29 30 31 32 33 34 35 36 37 38 39 40 41 42 43 44]\n",
      "test_index = [45 46 47 48]\n",
      "train = [11260.         10906.         12657.         11245.\n",
      " 12505.         13015.         12051.         13442.\n",
      " 12377.         12783.         12226.         11993.\n",
      " 11990.         10944.         12720.         12085.\n",
      " 13223.         13027.         13266.         14358.\n",
      " 12463.         14154.         12756.         11957.\n",
      " 12493.         11554.         12903.         12931.\n",
      " 13587.         12418.         13355.         13787.\n",
      " 12452.         14285.         12524.         12513.\n",
      " 12997.         11965.         12655.         12797.5565081\n",
      " 13779.22822975 12530.         14009.         13518.\n",
      " 12541.53233556]\n",
      "test = [14414.         12468.         12878.         13079.47967875]\n",
      "MAE = 290.94635580220483\n",
      "MAPE = 0.022049986187889625\n",
      "--------------------------------------------------\n",
      "MAE = [243.15926707739754, 582.6387274773388, 626.0328473203185, 268.1495778184035, 365.64942004582736, 290.94635580220483]\n",
      "MAPE = [0.01918923162288005, 0.04485564703396449, 0.048274373316227664, 0.021089516183804037, 0.027345092072958002, 0.022049986187889625]\n",
      "Average MAE = 396.0960325902484\n",
      "Average MAPE = 0.030467307736287308\n"
     ]
    }
   ],
   "source": [
    "tsfm.cross_validate(\"HOME\", True)"
   ]
  },
  {
   "cell_type": "code",
   "execution_count": 26,
   "metadata": {},
   "outputs": [
    {
     "output_type": "execute_result",
     "data": {
      "text/plain": [
       "       Unnamed: 0  beg_month product region district     terr  ro\n",
       "32720       32720 2021-01-01    HOME     A9     R906  TSV1142  30\n",
       "32721       32721 2021-01-01    HOME     A9     R906  TSV1145  48\n",
       "32722       32722 2021-01-01    HOME     A9     R906  TSV1147  67\n",
       "32723       32723 2021-01-01    HOME     A9     R906  TSV1148  31\n",
       "32724       32724 2021-12-01    HOME     A7     R707  TSV1103   1"
      ],
      "text/html": "<div>\n<style scoped>\n    .dataframe tbody tr th:only-of-type {\n        vertical-align: middle;\n    }\n\n    .dataframe tbody tr th {\n        vertical-align: top;\n    }\n\n    .dataframe thead th {\n        text-align: right;\n    }\n</style>\n<table border=\"1\" class=\"dataframe\">\n  <thead>\n    <tr style=\"text-align: right;\">\n      <th></th>\n      <th>Unnamed: 0</th>\n      <th>beg_month</th>\n      <th>product</th>\n      <th>region</th>\n      <th>district</th>\n      <th>terr</th>\n      <th>ro</th>\n    </tr>\n  </thead>\n  <tbody>\n    <tr>\n      <th>32720</th>\n      <td>32720</td>\n      <td>2021-01-01</td>\n      <td>HOME</td>\n      <td>A9</td>\n      <td>R906</td>\n      <td>TSV1142</td>\n      <td>30</td>\n    </tr>\n    <tr>\n      <th>32721</th>\n      <td>32721</td>\n      <td>2021-01-01</td>\n      <td>HOME</td>\n      <td>A9</td>\n      <td>R906</td>\n      <td>TSV1145</td>\n      <td>48</td>\n    </tr>\n    <tr>\n      <th>32722</th>\n      <td>32722</td>\n      <td>2021-01-01</td>\n      <td>HOME</td>\n      <td>A9</td>\n      <td>R906</td>\n      <td>TSV1147</td>\n      <td>67</td>\n    </tr>\n    <tr>\n      <th>32723</th>\n      <td>32723</td>\n      <td>2021-01-01</td>\n      <td>HOME</td>\n      <td>A9</td>\n      <td>R906</td>\n      <td>TSV1148</td>\n      <td>31</td>\n    </tr>\n    <tr>\n      <th>32724</th>\n      <td>32724</td>\n      <td>2021-12-01</td>\n      <td>HOME</td>\n      <td>A7</td>\n      <td>R707</td>\n      <td>TSV1103</td>\n      <td>1</td>\n    </tr>\n  </tbody>\n</table>\n</div>"
     },
     "metadata": {},
     "execution_count": 26
    }
   ],
   "source": [
    "df.tail()"
   ]
  },
  {
   "cell_type": "code",
   "execution_count": 27,
   "metadata": {},
   "outputs": [
    {
     "output_type": "error",
     "ename": "KeyError",
     "evalue": "'date'",
     "traceback": [
      "\u001b[1;31m---------------------------------------------------------------------------\u001b[0m",
      "\u001b[1;31mKeyError\u001b[0m                                  Traceback (most recent call last)",
      "\u001b[1;32m<ipython-input-27-b1e6ccf89cda>\u001b[0m in \u001b[0;36m<module>\u001b[1;34m\u001b[0m\n\u001b[1;32m----> 1\u001b[1;33m \u001b[0mdf\u001b[0m \u001b[1;33m=\u001b[0m \u001b[0mdf\u001b[0m\u001b[1;33m.\u001b[0m\u001b[0mgroupby\u001b[0m\u001b[1;33m(\u001b[0m\u001b[1;33m[\u001b[0m\u001b[1;34m'date'\u001b[0m\u001b[1;33m,\u001b[0m\u001b[1;34m'prod'\u001b[0m\u001b[1;33m,\u001b[0m\u001b[1;34m'region'\u001b[0m\u001b[1;33m,\u001b[0m\u001b[1;34m'district'\u001b[0m\u001b[1;33m,\u001b[0m\u001b[1;34m'terr'\u001b[0m\u001b[1;33m]\u001b[0m\u001b[1;33m)\u001b[0m\u001b[1;33m.\u001b[0m\u001b[0mro\u001b[0m\u001b[1;33m.\u001b[0m\u001b[0mcount\u001b[0m\u001b[1;33m(\u001b[0m\u001b[1;33m)\u001b[0m\u001b[1;33m.\u001b[0m\u001b[0mreset_index\u001b[0m\u001b[1;33m(\u001b[0m\u001b[1;33m)\u001b[0m\u001b[1;33m\u001b[0m\u001b[1;33m\u001b[0m\u001b[0m\n\u001b[0m\u001b[0;32m      2\u001b[0m \u001b[1;31m# remove glitch in data\u001b[0m\u001b[1;33m\u001b[0m\u001b[1;33m\u001b[0m\u001b[1;33m\u001b[0m\u001b[0m\n\u001b[0;32m      3\u001b[0m \u001b[0mdf\u001b[0m \u001b[1;33m=\u001b[0m  \u001b[0mdf\u001b[0m\u001b[1;33m[\u001b[0m\u001b[0mdf\u001b[0m\u001b[1;33m[\u001b[0m\u001b[1;34m'date'\u001b[0m\u001b[1;33m]\u001b[0m \u001b[1;33m!=\u001b[0m \u001b[0mdf\u001b[0m\u001b[1;33m[\u001b[0m\u001b[1;34m'date'\u001b[0m\u001b[1;33m]\u001b[0m\u001b[1;33m.\u001b[0m\u001b[0mmax\u001b[0m\u001b[1;33m(\u001b[0m\u001b[1;33m)\u001b[0m\u001b[1;33m]\u001b[0m\u001b[1;33m\u001b[0m\u001b[1;33m\u001b[0m\u001b[0m\n",
      "\u001b[1;32m~\\AppData\\Local\\Programs\\Python\\Python38\\lib\\site-packages\\pandas\\core\\frame.py\u001b[0m in \u001b[0;36mgroupby\u001b[1;34m(self, by, axis, level, as_index, sort, group_keys, squeeze, observed)\u001b[0m\n\u001b[0;32m   5799\u001b[0m         \u001b[0maxis\u001b[0m \u001b[1;33m=\u001b[0m \u001b[0mself\u001b[0m\u001b[1;33m.\u001b[0m\u001b[0m_get_axis_number\u001b[0m\u001b[1;33m(\u001b[0m\u001b[0maxis\u001b[0m\u001b[1;33m)\u001b[0m\u001b[1;33m\u001b[0m\u001b[1;33m\u001b[0m\u001b[0m\n\u001b[0;32m   5800\u001b[0m \u001b[1;33m\u001b[0m\u001b[0m\n\u001b[1;32m-> 5801\u001b[1;33m         return groupby_generic.DataFrameGroupBy(\n\u001b[0m\u001b[0;32m   5802\u001b[0m             \u001b[0mobj\u001b[0m\u001b[1;33m=\u001b[0m\u001b[0mself\u001b[0m\u001b[1;33m,\u001b[0m\u001b[1;33m\u001b[0m\u001b[1;33m\u001b[0m\u001b[0m\n\u001b[0;32m   5803\u001b[0m             \u001b[0mkeys\u001b[0m\u001b[1;33m=\u001b[0m\u001b[0mby\u001b[0m\u001b[1;33m,\u001b[0m\u001b[1;33m\u001b[0m\u001b[1;33m\u001b[0m\u001b[0m\n",
      "\u001b[1;32m~\\AppData\\Local\\Programs\\Python\\Python38\\lib\\site-packages\\pandas\\core\\groupby\\groupby.py\u001b[0m in \u001b[0;36m__init__\u001b[1;34m(self, obj, keys, axis, level, grouper, exclusions, selection, as_index, sort, group_keys, squeeze, observed, mutated)\u001b[0m\n\u001b[0;32m    400\u001b[0m             \u001b[1;32mfrom\u001b[0m \u001b[0mpandas\u001b[0m\u001b[1;33m.\u001b[0m\u001b[0mcore\u001b[0m\u001b[1;33m.\u001b[0m\u001b[0mgroupby\u001b[0m\u001b[1;33m.\u001b[0m\u001b[0mgrouper\u001b[0m \u001b[1;32mimport\u001b[0m \u001b[0mget_grouper\u001b[0m\u001b[1;33m\u001b[0m\u001b[1;33m\u001b[0m\u001b[0m\n\u001b[0;32m    401\u001b[0m \u001b[1;33m\u001b[0m\u001b[0m\n\u001b[1;32m--> 402\u001b[1;33m             grouper, exclusions, obj = get_grouper(\n\u001b[0m\u001b[0;32m    403\u001b[0m                 \u001b[0mobj\u001b[0m\u001b[1;33m,\u001b[0m\u001b[1;33m\u001b[0m\u001b[1;33m\u001b[0m\u001b[0m\n\u001b[0;32m    404\u001b[0m                 \u001b[0mkeys\u001b[0m\u001b[1;33m,\u001b[0m\u001b[1;33m\u001b[0m\u001b[1;33m\u001b[0m\u001b[0m\n",
      "\u001b[1;32m~\\AppData\\Local\\Programs\\Python\\Python38\\lib\\site-packages\\pandas\\core\\groupby\\grouper.py\u001b[0m in \u001b[0;36mget_grouper\u001b[1;34m(obj, key, axis, level, sort, observed, mutated, validate)\u001b[0m\n\u001b[0;32m    596\u001b[0m                 \u001b[0min_axis\u001b[0m\u001b[1;33m,\u001b[0m \u001b[0mname\u001b[0m\u001b[1;33m,\u001b[0m \u001b[0mlevel\u001b[0m\u001b[1;33m,\u001b[0m \u001b[0mgpr\u001b[0m \u001b[1;33m=\u001b[0m \u001b[1;32mFalse\u001b[0m\u001b[1;33m,\u001b[0m \u001b[1;32mNone\u001b[0m\u001b[1;33m,\u001b[0m \u001b[0mgpr\u001b[0m\u001b[1;33m,\u001b[0m \u001b[1;32mNone\u001b[0m\u001b[1;33m\u001b[0m\u001b[1;33m\u001b[0m\u001b[0m\n\u001b[0;32m    597\u001b[0m             \u001b[1;32melse\u001b[0m\u001b[1;33m:\u001b[0m\u001b[1;33m\u001b[0m\u001b[1;33m\u001b[0m\u001b[0m\n\u001b[1;32m--> 598\u001b[1;33m                 \u001b[1;32mraise\u001b[0m \u001b[0mKeyError\u001b[0m\u001b[1;33m(\u001b[0m\u001b[0mgpr\u001b[0m\u001b[1;33m)\u001b[0m\u001b[1;33m\u001b[0m\u001b[1;33m\u001b[0m\u001b[0m\n\u001b[0m\u001b[0;32m    599\u001b[0m         \u001b[1;32melif\u001b[0m \u001b[0misinstance\u001b[0m\u001b[1;33m(\u001b[0m\u001b[0mgpr\u001b[0m\u001b[1;33m,\u001b[0m \u001b[0mGrouper\u001b[0m\u001b[1;33m)\u001b[0m \u001b[1;32mand\u001b[0m \u001b[0mgpr\u001b[0m\u001b[1;33m.\u001b[0m\u001b[0mkey\u001b[0m \u001b[1;32mis\u001b[0m \u001b[1;32mnot\u001b[0m \u001b[1;32mNone\u001b[0m\u001b[1;33m:\u001b[0m\u001b[1;33m\u001b[0m\u001b[1;33m\u001b[0m\u001b[0m\n\u001b[0;32m    600\u001b[0m             \u001b[1;31m# Add key to exclusions\u001b[0m\u001b[1;33m\u001b[0m\u001b[1;33m\u001b[0m\u001b[1;33m\u001b[0m\u001b[0m\n",
      "\u001b[1;31mKeyError\u001b[0m: 'date'"
     ]
    }
   ],
   "source": [
    "df = df.groupby(['date','prod','region','district','terr']).ro.count().reset_index()\n",
    "# remove glitch in data\n",
    "df =  df[df['date'] != df['date'].max()]"
   ]
  },
  {
   "cell_type": "code",
   "execution_count": 31,
   "metadata": {},
   "outputs": [
    {
     "output_type": "execute_result",
     "data": {
      "text/plain": [
       "       Unnamed: 0  beg_month product region district     terr  ro\n",
       "461           461 2017-01-01    HOME     A0     R001  TSV1115  22\n",
       "462           462 2017-01-01    HOME     A0     R001  TSV1196  31\n",
       "463           463 2017-01-01    HOME     A1     R101  TSV1001  34\n",
       "464           464 2017-01-01    HOME     A1     R101  TSV1165  85\n",
       "465           465 2017-01-01    HOME     A1     R101  TSV1173  62\n",
       "...           ...        ...     ...    ...      ...      ...  ..\n",
       "32720       32720 2021-01-01    HOME     A9     R906  TSV1142  30\n",
       "32721       32721 2021-01-01    HOME     A9     R906  TSV1145  48\n",
       "32722       32722 2021-01-01    HOME     A9     R906  TSV1147  67\n",
       "32723       32723 2021-01-01    HOME     A9     R906  TSV1148  31\n",
       "32724       32724 2021-12-01    HOME     A7     R707  TSV1103   1\n",
       "\n",
       "[10389 rows x 7 columns]"
      ],
      "text/html": "<div>\n<style scoped>\n    .dataframe tbody tr th:only-of-type {\n        vertical-align: middle;\n    }\n\n    .dataframe tbody tr th {\n        vertical-align: top;\n    }\n\n    .dataframe thead th {\n        text-align: right;\n    }\n</style>\n<table border=\"1\" class=\"dataframe\">\n  <thead>\n    <tr style=\"text-align: right;\">\n      <th></th>\n      <th>Unnamed: 0</th>\n      <th>beg_month</th>\n      <th>product</th>\n      <th>region</th>\n      <th>district</th>\n      <th>terr</th>\n      <th>ro</th>\n    </tr>\n  </thead>\n  <tbody>\n    <tr>\n      <th>461</th>\n      <td>461</td>\n      <td>2017-01-01</td>\n      <td>HOME</td>\n      <td>A0</td>\n      <td>R001</td>\n      <td>TSV1115</td>\n      <td>22</td>\n    </tr>\n    <tr>\n      <th>462</th>\n      <td>462</td>\n      <td>2017-01-01</td>\n      <td>HOME</td>\n      <td>A0</td>\n      <td>R001</td>\n      <td>TSV1196</td>\n      <td>31</td>\n    </tr>\n    <tr>\n      <th>463</th>\n      <td>463</td>\n      <td>2017-01-01</td>\n      <td>HOME</td>\n      <td>A1</td>\n      <td>R101</td>\n      <td>TSV1001</td>\n      <td>34</td>\n    </tr>\n    <tr>\n      <th>464</th>\n      <td>464</td>\n      <td>2017-01-01</td>\n      <td>HOME</td>\n      <td>A1</td>\n      <td>R101</td>\n      <td>TSV1165</td>\n      <td>85</td>\n    </tr>\n    <tr>\n      <th>465</th>\n      <td>465</td>\n      <td>2017-01-01</td>\n      <td>HOME</td>\n      <td>A1</td>\n      <td>R101</td>\n      <td>TSV1173</td>\n      <td>62</td>\n    </tr>\n    <tr>\n      <th>...</th>\n      <td>...</td>\n      <td>...</td>\n      <td>...</td>\n      <td>...</td>\n      <td>...</td>\n      <td>...</td>\n      <td>...</td>\n    </tr>\n    <tr>\n      <th>32720</th>\n      <td>32720</td>\n      <td>2021-01-01</td>\n      <td>HOME</td>\n      <td>A9</td>\n      <td>R906</td>\n      <td>TSV1142</td>\n      <td>30</td>\n    </tr>\n    <tr>\n      <th>32721</th>\n      <td>32721</td>\n      <td>2021-01-01</td>\n      <td>HOME</td>\n      <td>A9</td>\n      <td>R906</td>\n      <td>TSV1145</td>\n      <td>48</td>\n    </tr>\n    <tr>\n      <th>32722</th>\n      <td>32722</td>\n      <td>2021-01-01</td>\n      <td>HOME</td>\n      <td>A9</td>\n      <td>R906</td>\n      <td>TSV1147</td>\n      <td>67</td>\n    </tr>\n    <tr>\n      <th>32723</th>\n      <td>32723</td>\n      <td>2021-01-01</td>\n      <td>HOME</td>\n      <td>A9</td>\n      <td>R906</td>\n      <td>TSV1148</td>\n      <td>31</td>\n    </tr>\n    <tr>\n      <th>32724</th>\n      <td>32724</td>\n      <td>2021-12-01</td>\n      <td>HOME</td>\n      <td>A7</td>\n      <td>R707</td>\n      <td>TSV1103</td>\n      <td>1</td>\n    </tr>\n  </tbody>\n</table>\n<p>10389 rows × 7 columns</p>\n</div>"
     },
     "metadata": {},
     "execution_count": 31
    }
   ],
   "source": [
    "df.query(\"product == 'HOME'\")"
   ]
  },
  {
   "cell_type": "code",
   "execution_count": 10,
   "metadata": {},
   "outputs": [
    {
     "output_type": "execute_result",
     "data": {
      "text/plain": [
       "       Unnamed: 0  beg_month product region district     terr  ro\n",
       "0               0 2017-01-01   ACUTE     A1     R101  TMV1001  30\n",
       "1               1 2017-01-01   ACUTE     A1     R101  TMV1002  31\n",
       "2               2 2017-01-01   ACUTE     A1     R101  TMV1003  24\n",
       "3               3 2017-01-01   ACUTE     A1     R101  TMV2001  37\n",
       "4               4 2017-01-01   ACUTE     A1     R102  TMV1007  17\n",
       "...           ...        ...     ...    ...      ...      ...  ..\n",
       "32719       32719 2021-01-01    HOME     A9     R906  TSV1138  44\n",
       "32720       32720 2021-01-01    HOME     A9     R906  TSV1142  30\n",
       "32721       32721 2021-01-01    HOME     A9     R906  TSV1145  48\n",
       "32722       32722 2021-01-01    HOME     A9     R906  TSV1147  67\n",
       "32723       32723 2021-01-01    HOME     A9     R906  TSV1148  31\n",
       "\n",
       "[32724 rows x 7 columns]"
      ],
      "text/html": "<div>\n<style scoped>\n    .dataframe tbody tr th:only-of-type {\n        vertical-align: middle;\n    }\n\n    .dataframe tbody tr th {\n        vertical-align: top;\n    }\n\n    .dataframe thead th {\n        text-align: right;\n    }\n</style>\n<table border=\"1\" class=\"dataframe\">\n  <thead>\n    <tr style=\"text-align: right;\">\n      <th></th>\n      <th>Unnamed: 0</th>\n      <th>beg_month</th>\n      <th>product</th>\n      <th>region</th>\n      <th>district</th>\n      <th>terr</th>\n      <th>ro</th>\n    </tr>\n  </thead>\n  <tbody>\n    <tr>\n      <th>0</th>\n      <td>0</td>\n      <td>2017-01-01</td>\n      <td>ACUTE</td>\n      <td>A1</td>\n      <td>R101</td>\n      <td>TMV1001</td>\n      <td>30</td>\n    </tr>\n    <tr>\n      <th>1</th>\n      <td>1</td>\n      <td>2017-01-01</td>\n      <td>ACUTE</td>\n      <td>A1</td>\n      <td>R101</td>\n      <td>TMV1002</td>\n      <td>31</td>\n    </tr>\n    <tr>\n      <th>2</th>\n      <td>2</td>\n      <td>2017-01-01</td>\n      <td>ACUTE</td>\n      <td>A1</td>\n      <td>R101</td>\n      <td>TMV1003</td>\n      <td>24</td>\n    </tr>\n    <tr>\n      <th>3</th>\n      <td>3</td>\n      <td>2017-01-01</td>\n      <td>ACUTE</td>\n      <td>A1</td>\n      <td>R101</td>\n      <td>TMV2001</td>\n      <td>37</td>\n    </tr>\n    <tr>\n      <th>4</th>\n      <td>4</td>\n      <td>2017-01-01</td>\n      <td>ACUTE</td>\n      <td>A1</td>\n      <td>R102</td>\n      <td>TMV1007</td>\n      <td>17</td>\n    </tr>\n    <tr>\n      <th>...</th>\n      <td>...</td>\n      <td>...</td>\n      <td>...</td>\n      <td>...</td>\n      <td>...</td>\n      <td>...</td>\n      <td>...</td>\n    </tr>\n    <tr>\n      <th>32719</th>\n      <td>32719</td>\n      <td>2021-01-01</td>\n      <td>HOME</td>\n      <td>A9</td>\n      <td>R906</td>\n      <td>TSV1138</td>\n      <td>44</td>\n    </tr>\n    <tr>\n      <th>32720</th>\n      <td>32720</td>\n      <td>2021-01-01</td>\n      <td>HOME</td>\n      <td>A9</td>\n      <td>R906</td>\n      <td>TSV1142</td>\n      <td>30</td>\n    </tr>\n    <tr>\n      <th>32721</th>\n      <td>32721</td>\n      <td>2021-01-01</td>\n      <td>HOME</td>\n      <td>A9</td>\n      <td>R906</td>\n      <td>TSV1145</td>\n      <td>48</td>\n    </tr>\n    <tr>\n      <th>32722</th>\n      <td>32722</td>\n      <td>2021-01-01</td>\n      <td>HOME</td>\n      <td>A9</td>\n      <td>R906</td>\n      <td>TSV1147</td>\n      <td>67</td>\n    </tr>\n    <tr>\n      <th>32723</th>\n      <td>32723</td>\n      <td>2021-01-01</td>\n      <td>HOME</td>\n      <td>A9</td>\n      <td>R906</td>\n      <td>TSV1148</td>\n      <td>31</td>\n    </tr>\n  </tbody>\n</table>\n<p>32724 rows × 7 columns</p>\n</div>"
     },
     "metadata": {},
     "execution_count": 10
    }
   ],
   "source": [
    "df.head(327210)"
   ]
  },
  {
   "cell_type": "code",
   "execution_count": 19,
   "metadata": {},
   "outputs": [
    {
     "output_type": "execute_result",
     "data": {
      "text/plain": [
       "Timestamp('2017-01-01 00:00:00')"
      ]
     },
     "metadata": {},
     "execution_count": 19
    }
   ],
   "source": [
    "df.iloc[12, 1]"
   ]
  },
  {
   "cell_type": "code",
   "execution_count": 17,
   "metadata": {},
   "outputs": [
    {
     "output_type": "execute_result",
     "data": {
      "text/plain": [
       "    Unnamed: 0  beg_month product region district     terr  ro\n",
       "0            0 2017-01-01   ACUTE     A1     R101  TMV1001  30\n",
       "1            1 2017-01-01   ACUTE     A1     R101  TMV1002  31\n",
       "2            2 2017-01-01   ACUTE     A1     R101  TMV1003  24\n",
       "3            3 2017-01-01   ACUTE     A1     R101  TMV2001  37\n",
       "4            4 2017-01-01   ACUTE     A1     R102  TMV1007  17\n",
       "5            5 2017-01-01   ACUTE     A1     R102  TMV1009  26\n",
       "6            6 2017-01-01   ACUTE     A1     R102  TMV1010  27\n",
       "7            7 2017-01-01   ACUTE     A1     R102  TMV2010   8\n",
       "8            8 2017-01-01   ACUTE     A1     R103  TMV1004  15\n",
       "9            9 2017-01-01   ACUTE     A1     R103  TMV1020  20\n",
       "10          10 2017-01-01   ACUTE     A1     R103  TMV1021  32\n",
       "11          11 2017-01-01   ACUTE     A1     R103  TMV1023  42\n",
       "12          12 2017-01-01   ACUTE     A1     R103  TMV1212  19\n",
       "13          13 2017-01-01   ACUTE     A1     R103  TMV1252  45"
      ],
      "text/html": "<div>\n<style scoped>\n    .dataframe tbody tr th:only-of-type {\n        vertical-align: middle;\n    }\n\n    .dataframe tbody tr th {\n        vertical-align: top;\n    }\n\n    .dataframe thead th {\n        text-align: right;\n    }\n</style>\n<table border=\"1\" class=\"dataframe\">\n  <thead>\n    <tr style=\"text-align: right;\">\n      <th></th>\n      <th>Unnamed: 0</th>\n      <th>beg_month</th>\n      <th>product</th>\n      <th>region</th>\n      <th>district</th>\n      <th>terr</th>\n      <th>ro</th>\n    </tr>\n  </thead>\n  <tbody>\n    <tr>\n      <th>0</th>\n      <td>0</td>\n      <td>2017-01-01</td>\n      <td>ACUTE</td>\n      <td>A1</td>\n      <td>R101</td>\n      <td>TMV1001</td>\n      <td>30</td>\n    </tr>\n    <tr>\n      <th>1</th>\n      <td>1</td>\n      <td>2017-01-01</td>\n      <td>ACUTE</td>\n      <td>A1</td>\n      <td>R101</td>\n      <td>TMV1002</td>\n      <td>31</td>\n    </tr>\n    <tr>\n      <th>2</th>\n      <td>2</td>\n      <td>2017-01-01</td>\n      <td>ACUTE</td>\n      <td>A1</td>\n      <td>R101</td>\n      <td>TMV1003</td>\n      <td>24</td>\n    </tr>\n    <tr>\n      <th>3</th>\n      <td>3</td>\n      <td>2017-01-01</td>\n      <td>ACUTE</td>\n      <td>A1</td>\n      <td>R101</td>\n      <td>TMV2001</td>\n      <td>37</td>\n    </tr>\n    <tr>\n      <th>4</th>\n      <td>4</td>\n      <td>2017-01-01</td>\n      <td>ACUTE</td>\n      <td>A1</td>\n      <td>R102</td>\n      <td>TMV1007</td>\n      <td>17</td>\n    </tr>\n    <tr>\n      <th>5</th>\n      <td>5</td>\n      <td>2017-01-01</td>\n      <td>ACUTE</td>\n      <td>A1</td>\n      <td>R102</td>\n      <td>TMV1009</td>\n      <td>26</td>\n    </tr>\n    <tr>\n      <th>6</th>\n      <td>6</td>\n      <td>2017-01-01</td>\n      <td>ACUTE</td>\n      <td>A1</td>\n      <td>R102</td>\n      <td>TMV1010</td>\n      <td>27</td>\n    </tr>\n    <tr>\n      <th>7</th>\n      <td>7</td>\n      <td>2017-01-01</td>\n      <td>ACUTE</td>\n      <td>A1</td>\n      <td>R102</td>\n      <td>TMV2010</td>\n      <td>8</td>\n    </tr>\n    <tr>\n      <th>8</th>\n      <td>8</td>\n      <td>2017-01-01</td>\n      <td>ACUTE</td>\n      <td>A1</td>\n      <td>R103</td>\n      <td>TMV1004</td>\n      <td>15</td>\n    </tr>\n    <tr>\n      <th>9</th>\n      <td>9</td>\n      <td>2017-01-01</td>\n      <td>ACUTE</td>\n      <td>A1</td>\n      <td>R103</td>\n      <td>TMV1020</td>\n      <td>20</td>\n    </tr>\n    <tr>\n      <th>10</th>\n      <td>10</td>\n      <td>2017-01-01</td>\n      <td>ACUTE</td>\n      <td>A1</td>\n      <td>R103</td>\n      <td>TMV1021</td>\n      <td>32</td>\n    </tr>\n    <tr>\n      <th>11</th>\n      <td>11</td>\n      <td>2017-01-01</td>\n      <td>ACUTE</td>\n      <td>A1</td>\n      <td>R103</td>\n      <td>TMV1023</td>\n      <td>42</td>\n    </tr>\n    <tr>\n      <th>12</th>\n      <td>12</td>\n      <td>2017-01-01</td>\n      <td>ACUTE</td>\n      <td>A1</td>\n      <td>R103</td>\n      <td>TMV1212</td>\n      <td>19</td>\n    </tr>\n    <tr>\n      <th>13</th>\n      <td>13</td>\n      <td>2017-01-01</td>\n      <td>ACUTE</td>\n      <td>A1</td>\n      <td>R103</td>\n      <td>TMV1252</td>\n      <td>45</td>\n    </tr>\n  </tbody>\n</table>\n</div>"
     },
     "metadata": {},
     "execution_count": 17
    }
   ],
   "source": [
    "df.head(14)"
   ]
  },
  {
   "cell_type": "code",
   "execution_count": 31,
   "metadata": {},
   "outputs": [
    {
     "output_type": "execute_result",
     "data": {
      "text/plain": [
       "array([1, 2], dtype=int64)"
      ]
     },
     "metadata": {},
     "execution_count": 31
    }
   ],
   "source": [
    "pd.DataFrame({\"A\": [1, 2]})[\"A\"].to_numpy()"
   ]
  },
  {
   "cell_type": "code",
   "execution_count": null,
   "metadata": {},
   "outputs": [],
   "source": []
  }
 ]
}